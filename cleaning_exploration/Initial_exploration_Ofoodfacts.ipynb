{
  "cells": [
    {
      "cell_type": "code",
      "execution_count": null,
      "id": "cf662c2d",
      "metadata": {
        "id": "cf662c2d"
      },
      "outputs": [],
      "source": [
        "from pyspark.sql import SparkSession\n",
        "from pyspark.sql.functions import count, when, col, round, abs\n",
        "spark = SparkSession.builder \\\n",
        "    .appName(\"OpenFoodFactsAnalysis\") \\\n",
        "    .getOrCreate()\n"
      ]
    },
    {
      "cell_type": "code",
      "source": [
        "from google.colab import drive\n",
        "drive.mount('/content/drive')"
      ],
      "metadata": {
        "colab": {
          "base_uri": "https://localhost:8080/"
        },
        "id": "TsbuNVkAdFyB",
        "outputId": "247bdbeb-384c-48db-ffde-bc9838b19b13"
      },
      "id": "TsbuNVkAdFyB",
      "execution_count": null,
      "outputs": [
        {
          "output_type": "stream",
          "name": "stdout",
          "text": [
            "Drive already mounted at /content/drive; to attempt to forcibly remount, call drive.mount(\"/content/drive\", force_remount=True).\n"
          ]
        }
      ]
    },
    {
      "cell_type": "code",
      "source": [
        "!ls \"/content/drive/My Drive/Colab Notebooks/\"\n"
      ],
      "metadata": {
        "colab": {
          "base_uri": "https://localhost:8080/"
        },
        "id": "1EEHWxnFeshy",
        "outputId": "6e4b2b66-95ad-4043-db17-6c35d31f0e59"
      },
      "id": "1EEHWxnFeshy",
      "execution_count": null,
      "outputs": [
        {
          "output_type": "stream",
          "name": "stdout",
          "text": [
            "fr.openfoodfacts.org.products.csv  Ofoodfacts.ipynb  Untitled0.ipynb\n"
          ]
        }
      ]
    },
    {
      "cell_type": "code",
      "execution_count": null,
      "id": "be6bca87",
      "metadata": {
        "id": "be6bca87"
      },
      "outputs": [],
      "source": [
        "df = spark.read.csv(\"/content/drive/My Drive/Colab Notebooks/fr.openfoodfacts.org.products.csv\", sep='\\t', header=True, inferSchema=True)"
      ]
    },
    {
      "cell_type": "code",
      "execution_count": null,
      "id": "19ce6aa1",
      "metadata": {
        "colab": {
          "base_uri": "https://localhost:8080/"
        },
        "id": "19ce6aa1",
        "outputId": "aecb345d-c0ea-4dc9-87b7-7642f3e91640"
      },
      "outputs": [
        {
          "output_type": "stream",
          "name": "stdout",
          "text": [
            "root\n",
            " |-- code: double (nullable = true)\n",
            " |-- url: string (nullable = true)\n",
            " |-- creator: string (nullable = true)\n",
            " |-- created_t: integer (nullable = true)\n",
            " |-- created_datetime: timestamp (nullable = true)\n",
            " |-- last_modified_t: integer (nullable = true)\n",
            " |-- last_modified_datetime: timestamp (nullable = true)\n",
            " |-- last_modified_by: string (nullable = true)\n",
            " |-- last_updated_t: integer (nullable = true)\n",
            " |-- last_updated_datetime: timestamp (nullable = true)\n",
            " |-- product_name: string (nullable = true)\n",
            " |-- abbreviated_product_name: string (nullable = true)\n",
            " |-- generic_name: string (nullable = true)\n",
            " |-- quantity: string (nullable = true)\n",
            " |-- packaging: string (nullable = true)\n",
            " |-- packaging_tags: string (nullable = true)\n",
            " |-- packaging_fr: string (nullable = true)\n",
            " |-- packaging_text: string (nullable = true)\n",
            " |-- brands: string (nullable = true)\n",
            " |-- brands_tags: string (nullable = false)\n",
            " |-- brands_fr: string (nullable = true)\n",
            " |-- categories: string (nullable = true)\n",
            " |-- categories_tags: string (nullable = true)\n",
            " |-- categories_fr: string (nullable = true)\n",
            " |-- origins: string (nullable = true)\n",
            " |-- origins_tags: string (nullable = true)\n",
            " |-- origins_fr: string (nullable = true)\n",
            " |-- manufacturing_places: string (nullable = true)\n",
            " |-- manufacturing_places_tags: string (nullable = true)\n",
            " |-- labels: string (nullable = true)\n",
            " |-- labels_tags: string (nullable = true)\n",
            " |-- labels_fr: string (nullable = true)\n",
            " |-- emb_codes: string (nullable = true)\n",
            " |-- emb_codes_tags: string (nullable = true)\n",
            " |-- first_packaging_code_geo: string (nullable = true)\n",
            " |-- cities: string (nullable = true)\n",
            " |-- cities_tags: string (nullable = true)\n",
            " |-- purchase_places: string (nullable = true)\n",
            " |-- stores: string (nullable = true)\n",
            " |-- countries: string (nullable = true)\n",
            " |-- countries_tags: string (nullable = true)\n",
            " |-- countries_fr: string (nullable = true)\n",
            " |-- ingredients_text: string (nullable = true)\n",
            " |-- ingredients_tags: string (nullable = true)\n",
            " |-- ingredients_analysis_tags: string (nullable = true)\n",
            " |-- allergens: string (nullable = true)\n",
            " |-- allergens_fr: string (nullable = true)\n",
            " |-- traces: string (nullable = true)\n",
            " |-- traces_tags: string (nullable = true)\n",
            " |-- traces_fr: string (nullable = true)\n",
            " |-- serving_size: string (nullable = true)\n",
            " |-- serving_quantity: double (nullable = true)\n",
            " |-- no_nutrition_data: string (nullable = true)\n",
            " |-- additives_n: integer (nullable = true)\n",
            " |-- additives: string (nullable = true)\n",
            " |-- additives_tags: string (nullable = true)\n",
            " |-- additives_fr: string (nullable = true)\n",
            " |-- nutriscore_score: integer (nullable = true)\n",
            " |-- nutriscore_grade: string (nullable = true)\n",
            " |-- nova_group: integer (nullable = true)\n",
            " |-- pnns_groups_1: string (nullable = true)\n",
            " |-- pnns_groups_2: string (nullable = true)\n",
            " |-- food_groups: string (nullable = true)\n",
            " |-- food_groups_tags: string (nullable = true)\n",
            " |-- food_groups_fr: string (nullable = true)\n",
            " |-- states: string (nullable = true)\n",
            " |-- states_tags: string (nullable = true)\n",
            " |-- states_fr: string (nullable = true)\n",
            " |-- brand_owner: string (nullable = true)\n",
            " |-- environmental_score_score: integer (nullable = true)\n",
            " |-- environmental_score_grade: string (nullable = true)\n",
            " |-- nutrient_levels_tags: string (nullable = true)\n",
            " |-- product_quantity: double (nullable = true)\n",
            " |-- owner: string (nullable = true)\n",
            " |-- data_quality_errors_tags: string (nullable = true)\n",
            " |-- unique_scans_n: integer (nullable = true)\n",
            " |-- popularity_tags: string (nullable = true)\n",
            " |-- completeness: double (nullable = true)\n",
            " |-- last_image_t: integer (nullable = true)\n",
            " |-- last_image_datetime: timestamp (nullable = true)\n",
            " |-- main_category: string (nullable = true)\n",
            " |-- main_category_fr: string (nullable = true)\n",
            " |-- image_url: string (nullable = true)\n",
            " |-- image_small_url: string (nullable = true)\n",
            " |-- image_ingredients_url: string (nullable = true)\n",
            " |-- image_ingredients_small_url: string (nullable = true)\n",
            " |-- image_nutrition_url: string (nullable = true)\n",
            " |-- image_nutrition_small_url: string (nullable = true)\n",
            " |-- energy-kj_100g: double (nullable = true)\n",
            " |-- energy_100g: double (nullable = true)\n",
            " |-- energy-from-fat_100g: double (nullable = true)\n",
            " |-- fat_100g: double (nullable = true)\n",
            " |-- saturated-fat_100g: double (nullable = true)\n",
            " |-- butyric-acid_100g: double (nullable = true)\n",
            " |-- caproic-acid_100g: double (nullable = true)\n",
            " |-- caprylic-acid_100g: double (nullable = true)\n",
            " |-- capric-acid_100g: double (nullable = true)\n",
            " |-- lauric-acid_100g: double (nullable = true)\n",
            " |-- myristic-acid_100g: double (nullable = true)\n",
            " |-- palmitic-acid_100g: double (nullable = true)\n",
            " |-- stearic-acid_100g: double (nullable = true)\n",
            " |-- arachidic-acid_100g: double (nullable = true)\n",
            " |-- behenic-acid_100g: double (nullable = true)\n",
            " |-- lignoceric-acid_100g: double (nullable = true)\n",
            " |-- cerotic-acid_100g: double (nullable = true)\n",
            " |-- montanic-acid_100g: double (nullable = true)\n",
            " |-- melissic-acid_100g: double (nullable = true)\n",
            " |-- unsaturated-fat_100g: double (nullable = true)\n",
            " |-- monounsaturated-fat_100g: double (nullable = true)\n",
            " |-- omega-9-fat_100g: double (nullable = true)\n",
            " |-- polyunsaturated-fat_100g: double (nullable = true)\n",
            " |-- omega-3-fat_100g: double (nullable = true)\n",
            " |-- omega-6-fat_100g: double (nullable = true)\n",
            " |-- alpha-linolenic-acid_100g: double (nullable = true)\n",
            " |-- eicosapentaenoic-acid_100g: double (nullable = true)\n",
            " |-- docosahexaenoic-acid_100g: double (nullable = true)\n",
            " |-- linoleic-acid_100g: double (nullable = true)\n",
            " |-- arachidonic-acid_100g: double (nullable = true)\n",
            " |-- gamma-linolenic-acid_100g: double (nullable = true)\n",
            " |-- dihomo-gamma-linolenic-acid_100g: double (nullable = true)\n",
            " |-- oleic-acid_100g: double (nullable = true)\n",
            " |-- elaidic-acid_100g: double (nullable = true)\n",
            " |-- gondoic-acid_100g: double (nullable = true)\n",
            " |-- mead-acid_100g: double (nullable = true)\n",
            " |-- erucic-acid_100g: double (nullable = true)\n",
            " |-- nervonic-acid_100g: double (nullable = true)\n",
            " |-- trans-fat_100g: double (nullable = true)\n",
            " |-- cholesterol_100g: double (nullable = true)\n",
            " |-- carbohydrates_100g: double (nullable = true)\n",
            " |-- sugars_100g: double (nullable = true)\n",
            " |-- added-sugars_100g: double (nullable = true)\n",
            " |-- sucrose_100g: double (nullable = true)\n",
            " |-- glucose_100g: double (nullable = true)\n",
            " |-- fructose_100g: double (nullable = true)\n",
            " |-- galactose_100g: double (nullable = true)\n",
            " |-- lactose_100g: double (nullable = true)\n",
            " |-- maltose_100g: double (nullable = true)\n",
            " |-- maltodextrins_100g: double (nullable = true)\n",
            " |-- starch_100g: double (nullable = true)\n",
            " |-- polyols_100g: double (nullable = true)\n",
            " |-- erythritol_100g: double (nullable = true)\n",
            " |-- fiber_100g: double (nullable = true)\n",
            " |-- soluble-fiber_100g: double (nullable = true)\n",
            " |-- insoluble-fiber_100g: double (nullable = true)\n",
            " |-- proteins_100g: double (nullable = true)\n",
            " |-- casein_100g: double (nullable = true)\n",
            " |-- serum-proteins_100g: double (nullable = true)\n",
            " |-- nucleotides_100g: double (nullable = true)\n",
            " |-- salt_100g: double (nullable = true)\n",
            " |-- added-salt_100g: double (nullable = true)\n",
            " |-- sodium_100g: double (nullable = true)\n",
            " |-- alcohol_100g: double (nullable = true)\n",
            " |-- vitamin-a_100g: double (nullable = true)\n",
            " |-- beta-carotene_100g: double (nullable = true)\n",
            " |-- vitamin-d_100g: double (nullable = true)\n",
            " |-- vitamin-e_100g: double (nullable = true)\n",
            " |-- vitamin-k_100g: double (nullable = true)\n",
            " |-- vitamin-c_100g: double (nullable = true)\n",
            " |-- vitamin-b1_100g: double (nullable = true)\n",
            " |-- vitamin-b2_100g: double (nullable = true)\n",
            " |-- vitamin-pp_100g: double (nullable = true)\n",
            " |-- vitamin-b6_100g: double (nullable = true)\n",
            " |-- vitamin-b9_100g: double (nullable = true)\n",
            " |-- folates_100g: double (nullable = true)\n",
            " |-- vitamin-b12_100g: double (nullable = true)\n",
            " |-- biotin_100g: double (nullable = true)\n",
            " |-- pantothenic-acid_100g: double (nullable = true)\n",
            " |-- silica_100g: double (nullable = true)\n",
            " |-- bicarbonate_100g: double (nullable = true)\n",
            " |-- potassium_100g: double (nullable = true)\n",
            " |-- chloride_100g: double (nullable = true)\n",
            " |-- calcium_100g: double (nullable = true)\n",
            " |-- phosphorus_100g: double (nullable = true)\n",
            " |-- iron_100g: double (nullable = true)\n",
            " |-- magnesium_100g: double (nullable = true)\n",
            " |-- zinc_100g: double (nullable = true)\n",
            " |-- copper_100g: double (nullable = true)\n",
            " |-- manganese_100g: double (nullable = true)\n",
            " |-- fluoride_100g: double (nullable = true)\n",
            " |-- selenium_100g: double (nullable = true)\n",
            " |-- chromium_100g: double (nullable = true)\n",
            " |-- molybdenum_100g: double (nullable = true)\n",
            " |-- iodine_100g: double (nullable = true)\n",
            " |-- caffeine_100g: double (nullable = true)\n",
            " |-- taurine_100g: double (nullable = true)\n",
            " |-- ph_100g: double (nullable = true)\n",
            " |-- fruits-vegetables-nuts_100g: double (nullable = true)\n",
            " |-- fruits-vegetables-nuts-dried_100g: double (nullable = true)\n",
            " |-- fruits-vegetables-nuts-estimate_100g: double (nullable = true)\n",
            " |-- fruits-vegetables-nuts-estimate-from-ingredients_100g: double (nullable = true)\n",
            " |-- collagen-meat-protein-ratio_100g: double (nullable = true)\n",
            " |-- cocoa_100g: double (nullable = true)\n",
            " |-- chlorophyl_100g: double (nullable = true)\n",
            " |-- carbon-footprint_100g: double (nullable = true)\n",
            " |-- carbon-footprint-from-meat-or-fish_100g: double (nullable = true)\n",
            " |-- nutrition-score-fr_100g: integer (nullable = true)\n",
            " |-- nutrition-score-uk_100g: integer (nullable = true)\n",
            " |-- glycemic-index_100g: double (nullable = true)\n",
            " |-- water-hardness_100g: double (nullable = true)\n",
            " |-- choline_100g: double (nullable = true)\n",
            " |-- phylloquinone_100g: double (nullable = true)\n",
            " |-- beta-glucan_100g: double (nullable = true)\n",
            " |-- inositol_100g: double (nullable = true)\n",
            " |-- carnitine_100g: double (nullable = true)\n",
            " |-- sulphate_100g: double (nullable = true)\n",
            " |-- nitrate_100g: double (nullable = true)\n",
            " |-- acidity_100g: double (nullable = true)\n",
            " |-- carbohydrates-total_100g: integer (nullable = true)\n",
            " |-- energy-kcal_100g: double (nullable = true)\n",
            "\n"
          ]
        }
      ],
      "source": [
        "df_clean.printSchema()"
      ]
    },
    {
      "cell_type": "markdown",
      "id": "811ec4b2",
      "metadata": {
        "id": "811ec4b2"
      },
      "source": [
        "<small>\n",
        "\n",
        "**Signification de quelques colonnes de cette dataset OPEN FOOD FACTS**\n",
        "\n",
        "**code** : Code-barres du produit (unique).  \n",
        "**product_name** : Nom du produit.  \n",
        "**brands** : Marques du produit (ex : Danone, Coca-Cola).  \n",
        "\n",
        "**categories** : Catégories alimentaires (ex : \"Boissons\", \"Snacks\", \"Céréales du petit-déjeuner\").  \n",
        "\n",
        "**countries** : Pays où le produit est vendu.  \n",
        "**ingredients_text** : Liste des ingrédients (texte brut).  \n",
        "**allergens** : Allergènes présents (ex : gluten, lait).\n",
        "\n",
        "**traces** : Traces possibles d'allergènes (ex : \"Peut contenir des traces de noix\").  \n",
        "\n",
        "**nutrition_grade_fr** : Score nutritionnel de A à E (A = meilleur).  \n",
        "**energy_100g** : Énergie pour 100 g (en kJ).  \n",
        "**fat_100g** : Lipides (gras) pour 100 g.  \n",
        "\n",
        "**saturated-fat_100g** : Gras saturés pour 100 g. Trop de graisses saturées est mauvais pour la santé (ex: maladies cardio-vasculaires).\n",
        "\n",
        "**carbohydrates_100g** : Glucides pour 100 g. Important pour les régimes ou le contrôle glycémique.\n",
        "\n",
        "**sugars_100g** : Sucres pour 100 g. Détection des produits \"riches en sucres\" (attention au diabète !).  \n",
        "\n",
        "**fiber_100g** : Fibres alimentaires pour 100 g. Important pour la digestion.\n",
        "\n",
        "**proteins_100g** : Protéines pour 100 g.\n",
        "\n",
        "**salt_100g** : Sel pour 100 g. Trop de sel = hypertension artérielle possible.\n",
        "\n",
        "**sodium_100g** : Sodium pour 100 g.\n",
        "\n",
        "**additives_tags** : Additifs alimentaires (codes comme E330, E100, etc.).  \n",
        "\n",
        "**nova_group** : Degré de transformation alimentaire (de 1 = peu transformé à 4 = ultra-transformé).  \n",
        "\n",
        "**packaging** : Type d'emballage (ex : boîte, bouteille plastique). Utile pour les analyses environnementales (ex : plastique vs carton).\n",
        "\n",
        "**url** : Lien vers la fiche du produit sur Open Food Facts.\n",
        "\n",
        "</small>\n"
      ]
    },
    {
      "cell_type": "code",
      "execution_count": null,
      "id": "a002732c",
      "metadata": {
        "colab": {
          "base_uri": "https://localhost:8080/"
        },
        "id": "a002732c",
        "outputId": "397e30cf-1ac8-42cc-dfb7-e7baee0d0955"
      },
      "outputs": [
        {
          "output_type": "stream",
          "name": "stdout",
          "text": [
            "le nombre total des lignes de ce data set est : 3809945\n"
          ]
        }
      ],
      "source": [
        "total_rows = df.count()\n",
        "print(\"le nombre total des lignes de ce data set est :\", total_rows)"
      ]
    },
    {
      "cell_type": "code",
      "execution_count": null,
      "id": "ef861b56",
      "metadata": {
        "id": "ef861b56"
      },
      "outputs": [],
      "source": [
        "print(\"le nombre des valeures nulls dans chaque colonne d'un dataset: \")\n",
        "null_count= df.select([count(when(col(c).isNull(),c).cast(\"int\")).alias(c) for c in df.columns])\n",
        "null_count.show()"
      ]
    },
    {
      "cell_type": "code",
      "execution_count": null,
      "id": "61eb0131",
      "metadata": {
        "id": "61eb0131"
      },
      "outputs": [],
      "source": [
        "# nonnull_percentage_df = null_count.withColumn(\n",
        "#     \"nonnull_percentage\",\n",
        "#     round((1 - (col(\"null_count\") / total_rows)) * 100, 2)\n",
        "# )\n",
        "# nonnull_percentage_df.show()"
      ]
    },
    {
      "cell_type": "code",
      "execution_count": null,
      "id": "77c3ad0c",
      "metadata": {
        "id": "77c3ad0c"
      },
      "outputs": [],
      "source": [
        "print(\"Calculer le nombre des lignes dubliquées : \")\n",
        "duplicated_rows = df.groupBy(df.columns).count().filter(\"count > 1\")\n",
        "duplicated_rows.show()"
      ]
    },
    {
      "cell_type": "markdown",
      "id": "f776711d",
      "metadata": {
        "id": "f776711d"
      },
      "source": [
        "<small>\n",
        "\n",
        "**ça veut dire on a aucunne ligne dubliquée dans ce jeu de données Open food facts**\n",
        "\n",
        "</small>"
      ]
    },
    {
      "cell_type": "code",
      "execution_count": null,
      "id": "a02c580b",
      "metadata": {
        "id": "a02c580b"
      },
      "outputs": [],
      "source": [
        "print(\"En cherchant les valeurs incoherentes de l'energie sur 100g :\")\n",
        "df.filter(col(\"energy_100g\") < 0).show(truncate=False)\n"
      ]
    },
    {
      "cell_type": "markdown",
      "id": "9328c837",
      "metadata": {
        "id": "9328c837"
      },
      "source": [
        "<small>\n",
        "\n",
        "**ça veut dire il y a aucune valeure incoherente de l'energie sur 100g** (C'est impossible d'avoir une energie negative)\n",
        "\n",
        "</small>"
      ]
    },
    {
      "cell_type": "code",
      "execution_count": null,
      "id": "765967f5",
      "metadata": {
        "colab": {
          "base_uri": "https://localhost:8080/"
        },
        "id": "765967f5",
        "outputId": "64fe939f-6476-4bcc-c306-3b1947601aa4"
      },
      "outputs": [
        {
          "output_type": "stream",
          "name": "stdout",
          "text": [
            "+-----------+----------------+------------------+\n",
            "|energy_100g|energy-kcal_100g|kcal_theorique    |\n",
            "+-----------+----------------+------------------+\n",
            "|392.0      |141.0           |93.69024856596558 |\n",
            "|2401.0     |100.0           |573.8527724665391 |\n",
            "|1620.0     |376.0           |387.189292543021  |\n",
            "|1510.0     |358.0           |360.89866156787764|\n",
            "|1852.0     |428.0           |442.6386233269598 |\n",
            "|1917.0     |32.0            |458.1739961759082 |\n",
            "|1940.0     |286.0           |463.67112810707454|\n",
            "|3770.0     |900.0           |901.0516252390057 |\n",
            "|1460.0     |350.0           |348.9483747609942 |\n",
            "|1217.0     |289.0           |290.8699808795411 |\n",
            "|1880.0     |448.0           |449.33078393881453|\n",
            "|1056.0     |249.0           |252.39005736137668|\n",
            "|1139.0     |110.0           |272.22753346080304|\n",
            "|1600.0     |384.0           |382.40917782026764|\n",
            "|1253.0     |381.0           |299.47418738049714|\n",
            "|1867.0     |443.0           |446.22370936902485|\n",
            "|1465.0     |371.0           |350.1434034416826 |\n",
            "|1630.0     |388.0           |389.5793499043977 |\n",
            "|101000.0   |25300.0         |24139.579349904398|\n",
            "|3160.0     |400.0           |755.2581261950287 |\n",
            "+-----------+----------------+------------------+\n",
            "only showing top 20 rows\n",
            "\n",
            "Le nombre de ligne qui ne verifie pas la regle de la conversion entre le kj et le kcal est :  3630171\n"
          ]
        }
      ],
      "source": [
        "df_energy_check = df.withColumn(\"kcal_theorique\", col(\"energy_100g\") / 4.184)\\\n",
        "                    .withColumn(\"diff_incoherente\", abs(col(\"kcal_theorique\") - col(\"energy-kcal_100g\")) > 1)\n",
        "df_incoherents = df_energy_check.filter(col(\"diff_incoherente\") == True)\n",
        "df_incoherents.select(\"energy_100g\", \"energy-kcal_100g\", \"kcal_theorique\").show(truncate=False)\n",
        "\n",
        "print(\"Le nombre de ligne qui ne verifie pas la regle de la conversion entre le kj et le kcal est : \",total_rows - df_incoherents.count())"
      ]
    },
    {
      "cell_type": "code",
      "execution_count": null,
      "id": "379c889b",
      "metadata": {
        "colab": {
          "base_uri": "https://localhost:8080/"
        },
        "id": "379c889b",
        "outputId": "b37c7808-4fd4-499e-8b8c-0259a73aab64"
      },
      "outputs": [
        {
          "output_type": "stream",
          "name": "stdout",
          "text": [
            "+-----------+----------------+\n",
            "|energy_100g|energy-kcal_100g|\n",
            "+-----------+----------------+\n",
            "|NULL       |NULL            |\n",
            "|1389.0     |331.979         |\n",
            "|2415.0     |577.1989        |\n",
            "|NULL       |NULL            |\n",
            "|NULL       |NULL            |\n",
            "|392.0      |93.6902         |\n",
            "|NULL       |NULL            |\n",
            "|2401.0     |573.8528        |\n",
            "|929.0      |222.0363        |\n",
            "|1620.0     |387.1893        |\n",
            "|962.0      |229.9235        |\n",
            "|NULL       |NULL            |\n",
            "|4.0        |0.956           |\n",
            "|1510.0     |360.8987        |\n",
            "|293.0      |70.0287         |\n",
            "|NULL       |NULL            |\n",
            "|1852.0     |442.6386        |\n",
            "|NULL       |NULL            |\n",
            "|NULL       |NULL            |\n",
            "|188.0      |44.9331         |\n",
            "+-----------+----------------+\n",
            "only showing top 20 rows\n",
            "\n"
          ]
        }
      ],
      "source": [
        "df = df.withColumn(\"kcal_theorique\", round(col(\"energy_100g\") / 4.184, 4))\n",
        "df = df.drop(\"energy-kcal_100g\").withColumnRenamed(\"kcal_theorique\", \"energy-kcal_100g\")\n",
        "df.select(\"energy_100g\", \"energy-kcal_100g\").show(truncate=False)\n",
        "\n"
      ]
    },
    {
      "cell_type": "markdown",
      "id": "95fcb6e0",
      "metadata": {
        "id": "95fcb6e0"
      },
      "source": [
        "<small>\n",
        "\n",
        "**Alors On a 3630171 conversions incoherentes de kj à kcal ~~ 95.28% de la dataset**\n",
        "</small>"
      ]
    },
    {
      "cell_type": "code",
      "execution_count": null,
      "id": "29582a0d",
      "metadata": {
        "id": "29582a0d"
      },
      "outputs": [],
      "source": [
        "print(\"En venant de comparer la quantité des glucides sur 100g avec la quantité de sucres en 100g : \")\n",
        "carbohydrate_sucre_incoherent = df.filter(col(\"sugars_100g\") > col(\"carbohydrates_100g\"))\n",
        "carbohydrate_sucre_incoherent.show()"
      ]
    },
    {
      "cell_type": "markdown",
      "id": "abf92c1b",
      "metadata": {
        "id": "abf92c1b"
      },
      "source": [
        "<small>\n",
        "\n",
        "**Pourquoi une valeure de sugars_100g > carbohydrates_100g sont des valeurs incoherentes car :** Carbohydrates regroupent  les Sucres , les Amidons, les Fibres alimentaires dans 100g d' un produit alimentaire\n",
        "\n",
        "Sachant que l'unité avec quelle on calcule les carbohydrates et le sucre est en grammes (g)\n",
        "\n",
        "</small>"
      ]
    },
    {
      "cell_type": "code",
      "execution_count": null,
      "id": "55394723",
      "metadata": {
        "id": "55394723"
      },
      "outputs": [],
      "source": [
        "print(\"le nombre des valeurs incoherente au niveau des carbohydrates et les sucres dans chaque 100g : \", carbohydrate_sucre_incoherent.count())"
      ]
    },
    {
      "cell_type": "code",
      "execution_count": null,
      "id": "3d9c4e65",
      "metadata": {
        "id": "3d9c4e65"
      },
      "outputs": [],
      "source": [
        "fatsaturated_fat_incoherent=df.filter(col(\"saturated-fat_100g\") > col(\"fat_100g\"))\n",
        "fatsaturated_fat_incoherent.select(\"saturated-fat_100g\", \"fat_100g\")\n",
        "print(fatsaturated_fat_incoherent.count())"
      ]
    },
    {
      "cell_type": "code",
      "execution_count": null,
      "id": "050fb3cf",
      "metadata": {
        "id": "050fb3cf"
      },
      "outputs": [],
      "source": [
        "df.limit(5).show()"
      ]
    },
    {
      "cell_type": "code",
      "execution_count": null,
      "id": "3ea18a0a",
      "metadata": {
        "id": "3ea18a0a"
      },
      "outputs": [],
      "source": [
        "df.select(col(\"url\")).show(truncate=False)"
      ]
    },
    {
      "cell_type": "code",
      "execution_count": null,
      "id": "73c53402",
      "metadata": {
        "id": "73c53402"
      },
      "outputs": [],
      "source": [
        "#Delete the url column\n",
        "df_clean = df.drop(\"url\")"
      ]
    },
    {
      "cell_type": "markdown",
      "id": "c99ae820",
      "metadata": {
        "id": "c99ae820"
      },
      "source": [
        "<small>\n",
        "\n",
        "**Durant mes consultation des 20 premieres lignes url de la colonne \"url\" dans  cette dataset j'ai trouvé que quelques urls me derige à des pages introuvables  sinon je trouve qu'il existe une forte perturbation au niveau des données affichées sur la page. Donc je prends la decision de delete la colonne \"url\"**\n",
        "</small>"
      ]
    },
    {
      "cell_type": "code",
      "execution_count": null,
      "id": "f7f2b196",
      "metadata": {
        "id": "f7f2b196"
      },
      "outputs": [],
      "source": [
        "# Je veux etudier la force de ce code :\n",
        "total_code_unique = df.select(\"code\").distinct().count()\n",
        "print(\"afficher le nombre des produits alimentaires avec un code unique : \", total_code_unique)\n",
        "print(\"afficher le nombre des produits alimentaires avec un code non unique : \", total_rows - total_code_unique)"
      ]
    },
    {
      "cell_type": "markdown",
      "id": "c86643de",
      "metadata": {
        "id": "c86643de"
      },
      "source": [
        "<small>\n",
        "\n",
        "**On a constaté que le code n'est pas une valeur unique pour chaque produit, car on a trouvé des code dubliqués donc on doit consulter les lignes dubliquées pour bien comprendre la situation !!**\n",
        "</small>"
      ]
    },
    {
      "cell_type": "code",
      "execution_count": null,
      "id": "9c9f0aab",
      "metadata": {
        "id": "9c9f0aab"
      },
      "outputs": [],
      "source": [
        "# Grouper par code et compter combien de fois chaque code apparaît\n",
        "code_counts = df.groupBy(\"code\", \"creator\").agg(count(\"*\").alias(\"count\"))\n",
        "\n",
        "# Garder seulement ceux qui apparaissent plus d'une fois\n",
        "duplicate_codes = code_counts.filter(col(\"count\") > 1)\n",
        "\n",
        "duplicated_rows = df.join(duplicate_codes, on=\"code\", how=\"inner\")\n",
        "\n",
        "# Afficher les lignes concernées\n",
        "duplicated_rows.limit(30).show(truncate=False)"
      ]
    },
    {
      "cell_type": "code",
      "execution_count": null,
      "id": "1e41f867",
      "metadata": {
        "id": "1e41f867"
      },
      "outputs": [],
      "source": [
        "#Cela supprimera toutes les lignes ayant les mêmes valeurs pour code et product_name\n",
        "#Et gardera la première occurrence\n",
        "df_clean = df.dropDuplicates([\"code\", \"product_name\"])"
      ]
    },
    {
      "cell_type": "code",
      "execution_count": null,
      "id": "061acdd2",
      "metadata": {
        "id": "061acdd2"
      },
      "outputs": [],
      "source": [
        "df_clean = df.filter(col(\"product_name\").isNotNull())"
      ]
    },
    {
      "cell_type": "code",
      "execution_count": null,
      "id": "4030f577",
      "metadata": {
        "id": "4030f577"
      },
      "outputs": [],
      "source": [
        "df.select(\"product_name\").show(truncate=False)"
      ]
    },
    {
      "cell_type": "code",
      "execution_count": null,
      "id": "68d466a8",
      "metadata": {
        "colab": {
          "base_uri": "https://localhost:8080/"
        },
        "id": "68d466a8",
        "outputId": "f1524ec8-f36c-483e-907a-db40745ff119"
      },
      "outputs": [
        {
          "output_type": "stream",
          "name": "stdout",
          "text": [
            "3564020\n"
          ]
        }
      ],
      "source": [
        "new_total_rows_after_cleaning = df_clean.count()\n",
        "print(new_total_rows_after_cleaning)"
      ]
    },
    {
      "cell_type": "code",
      "execution_count": null,
      "id": "da1ba81d",
      "metadata": {
        "id": "da1ba81d"
      },
      "outputs": [],
      "source": [
        "df_clean = df.drop(\n",
        "    \"created_t\",\n",
        "    \"created_datetime\",\n",
        "    \"last_modified_t\",\n",
        "    \"last_modified_datetime\",\n",
        "    \"last_modified_by\",\n",
        "    \"last_updated_t\",\n",
        "    \"last_updated_datetime\"\n",
        ")"
      ]
    },
    {
      "cell_type": "markdown",
      "id": "018a47c4",
      "metadata": {
        "id": "018a47c4"
      },
      "source": [
        "Données produit (noms, marques, catégories...)"
      ]
    },
    {
      "cell_type": "code",
      "execution_count": null,
      "id": "d7341f15",
      "metadata": {
        "colab": {
          "base_uri": "https://localhost:8080/"
        },
        "id": "d7341f15",
        "outputId": "dc97d6e3-f7da-486f-9ca0-77a9e7186f2e"
      },
      "outputs": [
        {
          "output_type": "stream",
          "name": "stdout",
          "text": [
            "+------------+--------------------+--------------------+----------+-------------------+---------------+----------------------+----------------+--------------+---------------------+--------------------+------------------------+--------------------+--------------------+--------------------+--------------------+--------------------+--------------------+--------------------+--------------------+--------------------+--------------------+--------------------+--------------------+--------------+-----------------+-------------+--------------------+-------------------------+--------------------+--------------------+--------------------+---------+--------------+------------------------+------+-----------+--------------------+--------------------+-------------------+--------------------+----------------+--------------------+--------------------+-------------------------+--------------------+------------+--------------------+--------------------+--------------------+--------------+----------------+-----------------+-----------+---------+--------------------+--------------------+----------------+----------------+----------+--------------------+-------------------+--------------------+--------------------+--------------------+--------------------+--------------------+--------------------+-----------+-------------------------+-------------------------+--------------------+----------------+-----+------------------------+--------------+--------------------+------------+------------+-------------------+--------------------+--------------------+--------------------+--------------------+---------------------+---------------------------+--------------------+-------------------------+--------------+-----------+--------------------+--------+------------------+-----------------+-----------------+------------------+----------------+----------------+------------------+------------------+-----------------+-------------------+-----------------+--------------------+-----------------+------------------+------------------+--------------------+------------------------+----------------+------------------------+----------------+----------------+-------------------------+--------------------------+-------------------------+------------------+---------------------+-------------------------+--------------------------------+---------------+-----------------+-----------------+--------------+----------------+------------------+--------------+----------------+------------------+-----------+-----------------+------------+------------+-------------+--------------+------------+------------+------------------+-----------+------------+---------------+----------+------------------+--------------------+-------------+-----------+-------------------+----------------+---------+---------------+-----------+------------+--------------+------------------+--------------+--------------+--------------+--------------+---------------+---------------+---------------+---------------+---------------+------------+----------------+-----------+---------------------+-----------+----------------+--------------+-------------+------------+---------------+---------+--------------+---------+-----------+--------------+-------------+-------------+-------------+---------------+-----------+-------------+------------+-------+---------------------------+---------------------------------+------------------------------------+-----------------------------------------------------+--------------------------------+----------+---------------+---------------------+---------------------------------------+-----------------------+-----------------------+-------------------+-------------------+------------+------------------+----------------+-------------+--------------+-------------+------------+------------+------------------------+----------------+\n",
            "|        code|                 url|             creator| created_t|   created_datetime|last_modified_t|last_modified_datetime|last_modified_by|last_updated_t|last_updated_datetime|        product_name|abbreviated_product_name|        generic_name|            quantity|           packaging|      packaging_tags|        packaging_fr|      packaging_text|              brands|         brands_tags|           brands_fr|          categories|     categories_tags|       categories_fr|       origins|     origins_tags|   origins_fr|manufacturing_places|manufacturing_places_tags|              labels|         labels_tags|           labels_fr|emb_codes|emb_codes_tags|first_packaging_code_geo|cities|cities_tags|     purchase_places|              stores|          countries|      countries_tags|    countries_fr|    ingredients_text|    ingredients_tags|ingredients_analysis_tags|           allergens|allergens_fr|              traces|         traces_tags|           traces_fr|  serving_size|serving_quantity|no_nutrition_data|additives_n|additives|      additives_tags|        additives_fr|nutriscore_score|nutriscore_grade|nova_group|       pnns_groups_1|      pnns_groups_2|         food_groups|    food_groups_tags|      food_groups_fr|              states|         states_tags|           states_fr|brand_owner|environmental_score_score|environmental_score_grade|nutrient_levels_tags|product_quantity|owner|data_quality_errors_tags|unique_scans_n|     popularity_tags|completeness|last_image_t|last_image_datetime|       main_category|    main_category_fr|           image_url|     image_small_url|image_ingredients_url|image_ingredients_small_url| image_nutrition_url|image_nutrition_small_url|energy-kj_100g|energy_100g|energy-from-fat_100g|fat_100g|saturated-fat_100g|butyric-acid_100g|caproic-acid_100g|caprylic-acid_100g|capric-acid_100g|lauric-acid_100g|myristic-acid_100g|palmitic-acid_100g|stearic-acid_100g|arachidic-acid_100g|behenic-acid_100g|lignoceric-acid_100g|cerotic-acid_100g|montanic-acid_100g|melissic-acid_100g|unsaturated-fat_100g|monounsaturated-fat_100g|omega-9-fat_100g|polyunsaturated-fat_100g|omega-3-fat_100g|omega-6-fat_100g|alpha-linolenic-acid_100g|eicosapentaenoic-acid_100g|docosahexaenoic-acid_100g|linoleic-acid_100g|arachidonic-acid_100g|gamma-linolenic-acid_100g|dihomo-gamma-linolenic-acid_100g|oleic-acid_100g|elaidic-acid_100g|gondoic-acid_100g|mead-acid_100g|erucic-acid_100g|nervonic-acid_100g|trans-fat_100g|cholesterol_100g|carbohydrates_100g|sugars_100g|added-sugars_100g|sucrose_100g|glucose_100g|fructose_100g|galactose_100g|lactose_100g|maltose_100g|maltodextrins_100g|starch_100g|polyols_100g|erythritol_100g|fiber_100g|soluble-fiber_100g|insoluble-fiber_100g|proteins_100g|casein_100g|serum-proteins_100g|nucleotides_100g|salt_100g|added-salt_100g|sodium_100g|alcohol_100g|vitamin-a_100g|beta-carotene_100g|vitamin-d_100g|vitamin-e_100g|vitamin-k_100g|vitamin-c_100g|vitamin-b1_100g|vitamin-b2_100g|vitamin-pp_100g|vitamin-b6_100g|vitamin-b9_100g|folates_100g|vitamin-b12_100g|biotin_100g|pantothenic-acid_100g|silica_100g|bicarbonate_100g|potassium_100g|chloride_100g|calcium_100g|phosphorus_100g|iron_100g|magnesium_100g|zinc_100g|copper_100g|manganese_100g|fluoride_100g|selenium_100g|chromium_100g|molybdenum_100g|iodine_100g|caffeine_100g|taurine_100g|ph_100g|fruits-vegetables-nuts_100g|fruits-vegetables-nuts-dried_100g|fruits-vegetables-nuts-estimate_100g|fruits-vegetables-nuts-estimate-from-ingredients_100g|collagen-meat-protein-ratio_100g|cocoa_100g|chlorophyl_100g|carbon-footprint_100g|carbon-footprint-from-meat-or-fish_100g|nutrition-score-fr_100g|nutrition-score-uk_100g|glycemic-index_100g|water-hardness_100g|choline_100g|phylloquinone_100g|beta-glucan_100g|inositol_100g|carnitine_100g|sulphate_100g|nitrate_100g|acidity_100g|carbohydrates-total_100g|energy-kcal_100g|\n",
            "+------------+--------------------+--------------------+----------+-------------------+---------------+----------------------+----------------+--------------+---------------------+--------------------+------------------------+--------------------+--------------------+--------------------+--------------------+--------------------+--------------------+--------------------+--------------------+--------------------+--------------------+--------------------+--------------------+--------------+-----------------+-------------+--------------------+-------------------------+--------------------+--------------------+--------------------+---------+--------------+------------------------+------+-----------+--------------------+--------------------+-------------------+--------------------+----------------+--------------------+--------------------+-------------------------+--------------------+------------+--------------------+--------------------+--------------------+--------------+----------------+-----------------+-----------+---------+--------------------+--------------------+----------------+----------------+----------+--------------------+-------------------+--------------------+--------------------+--------------------+--------------------+--------------------+--------------------+-----------+-------------------------+-------------------------+--------------------+----------------+-----+------------------------+--------------+--------------------+------------+------------+-------------------+--------------------+--------------------+--------------------+--------------------+---------------------+---------------------------+--------------------+-------------------------+--------------+-----------+--------------------+--------+------------------+-----------------+-----------------+------------------+----------------+----------------+------------------+------------------+-----------------+-------------------+-----------------+--------------------+-----------------+------------------+------------------+--------------------+------------------------+----------------+------------------------+----------------+----------------+-------------------------+--------------------------+-------------------------+------------------+---------------------+-------------------------+--------------------------------+---------------+-----------------+-----------------+--------------+----------------+------------------+--------------+----------------+------------------+-----------+-----------------+------------+------------+-------------+--------------+------------+------------+------------------+-----------+------------+---------------+----------+------------------+--------------------+-------------+-----------+-------------------+----------------+---------+---------------+-----------+------------+--------------+------------------+--------------+--------------+--------------+--------------+---------------+---------------+---------------+---------------+---------------+------------+----------------+-----------+---------------------+-----------+----------------+--------------+-------------+------------+---------------+---------+--------------+---------+-----------+--------------+-------------+-------------+-------------+---------------+-----------+-------------+------------+-------+---------------------------+---------------------------------+------------------------------------+-----------------------------------------------------+--------------------------------+----------+---------------+---------------------+---------------------------------------+-----------------------+-----------------------+-------------------+-------------------+------------+------------------+----------------+-------------+--------------+-------------+------------+------------+------------------------+----------------+\n",
            "|        12.0|http://world-fr.o...|              elcoco|1578683912|2020-01-10 19:18:32|     1742154313|   2025-03-16 19:45:13|      prepperapp|    1743652190|  2025-04-03 03:49:50|HIGH PROTEIN ICED...|                    NULL|HIGH PROTEIN ICED...|                NULL|                NULL|                NULL|                NULL|                NULL|              Toneop|           xx:toneop|              toneop|Dietary supplemen...|en:dietary-supple...|Compléments alime...|      it:mondo|         en:world|        Monde|                NULL|                     NULL|                NULL|                NULL|                NULL|       CE|            ce|                    NULL|  NULL|       NULL|                NULL|https://supplemen...|            Germany|          en:germany|       Allemagne|                NULL|                NULL|                     NULL|             en:milk|        NULL|             en:milk|             en:milk|                Lait|         1 cup|            NULL|             NULL|       NULL|     NULL|                NULL|                NULL|            NULL|  not-applicable|      NULL|             unknown|            unknown|                NULL|                NULL|                NULL|en:to-be-complete...|en:to-be-complete...|À compléter,Infor...|       NULL|                     NULL|                  unknown|                NULL|            NULL| NULL|                    NULL|             1|top-75-percent-sc...|       0.775|  1734612802|2024-12-19 12:53:22|       en:supplement|       en:supplement|https://images.op...|https://images.op...|                 NULL|                       NULL|https://images.op...|     https://images.op...|          NULL|       NULL|                NULL|    NULL|              NULL|             NULL|             NULL|              NULL|            NULL|            NULL|              NULL|              NULL|             NULL|               NULL|             NULL|                NULL|             NULL|              NULL|              NULL|                NULL|                    NULL|            NULL|                    NULL|            NULL|            NULL|                     NULL|                      NULL|                     NULL|              NULL|                 NULL|                     NULL|                            NULL|           NULL|             NULL|             NULL|          NULL|            NULL|              NULL|          NULL|            NULL|              NULL|       NULL|             NULL|        NULL|        NULL|         NULL|          NULL|        NULL|        NULL|              NULL|       NULL|        NULL|           NULL|      NULL|              NULL|                NULL|         NULL|       NULL|               NULL|            NULL|     NULL|           NULL|       NULL|        NULL|          NULL|              NULL|          NULL|          NULL|          NULL|          NULL|           NULL|           NULL|           NULL|           NULL|           NULL|        NULL|            NULL|       NULL|                 NULL|       NULL|            NULL|          NULL|         NULL|        NULL|           NULL|     NULL|          NULL|     NULL|       NULL|          NULL|         NULL|         NULL|         NULL|           NULL|       NULL|         NULL|        NULL|   NULL|                       NULL|                             NULL|                                NULL|                                                 NULL|                            NULL|      NULL|           NULL|                 NULL|                                   NULL|                   NULL|                   NULL|               NULL|               NULL|        NULL|              NULL|            NULL|         NULL|          NULL|         NULL|        NULL|        NULL|                    NULL|            NULL|\n",
            "|        30.0|http://world-fr.o...|             beniben|1481840144|2016-12-15 22:15:44|     1736715446|   2025-01-12 20:57:26|            NULL|    1743501926|  2025-04-01 10:05:26|   Valeriana System®|                    NULL|Pâtisseries aux r...|               900 g|                crta|             it:crta|             it:crta|                NULL|      Vital Proteins|   xx:vital-proteins|      vital-proteins|integratore alime...|it:integratore-al...|it:integratore-al...|          NULL|             NULL|         NULL|              France|                   france|Point Vert, Fabri...|en:green-dot,en:m...|Point Vert,Fabriq...|     NULL|          NULL|                    NULL|  NULL|       NULL|       France,Nantes|      Correspondance|                 FR|           en:france|          France|   Collagen peptides|en:collagen-peptides|     en:palm-oil-conte...|en:eggs,en:gluten...|        NULL|en:nuts,en:soybea...|en:nuts,en:soybea...|Fruits à coque,So...|           20g|            20.0|               on|          0|     NULL|                NULL|                NULL|            NULL|         unknown|      NULL|             unknown|            unknown|                NULL|                NULL|                NULL|en:to-be-complete...|en:to-be-complete...|À compléter,Infor...|       NULL|                     NULL|                  unknown|                NULL|           900.0| NULL|                    NULL|             1|bottom-25-percent...|      0.8875|  1736715274|2025-01-12 20:54:34|it:integratore-al...|it:integratore-al...|https://images.op...|https://images.op...| https://images.op...|       https://images.op...|https://images.op...|     https://images.op...|          NULL|       NULL|                NULL|    NULL|              NULL|             NULL|             NULL|              NULL|            NULL|            NULL|              NULL|              NULL|             NULL|               NULL|             NULL|                NULL|             NULL|              NULL|              NULL|                NULL|                    NULL|            NULL|                    NULL|            NULL|            NULL|                     NULL|                      NULL|                     NULL|              NULL|                 NULL|                     NULL|                            NULL|           NULL|             NULL|             NULL|          NULL|            NULL|              NULL|          NULL|            NULL|              NULL|       NULL|             NULL|        NULL|        NULL|         NULL|          NULL|        NULL|        NULL|              NULL|       NULL|        NULL|           NULL|      NULL|              NULL|                NULL|         NULL|       NULL|               NULL|            NULL|     NULL|           NULL|       NULL|        NULL|          NULL|              NULL|          NULL|          NULL|          NULL|          NULL|           NULL|           NULL|           NULL|           NULL|           NULL|        NULL|            NULL|       NULL|                 NULL|       NULL|            NULL|          NULL|         NULL|        NULL|           NULL|     NULL|          NULL|     NULL|       NULL|          NULL|         NULL|         NULL|         NULL|           NULL|       NULL|         NULL|        NULL|   NULL|                       NULL|                             NULL|                                NULL|                                                  0.0|                            NULL|      NULL|           NULL|                 NULL|                                   NULL|                   NULL|                   NULL|               NULL|               NULL|        NULL|              NULL|            NULL|         NULL|          NULL|         NULL|        NULL|        NULL|                    NULL|            NULL|\n",
            "|        51.0|http://world-fr.o...|             beniben|1480622364|2016-12-01 19:59:24|     1744975032|   2025-04-18 11:17:12|    smoothie-app|    1744975032|  2025-04-18 11:17:12|     Fondants Citron|                    NULL|Pâtisseries fonda...|660 g (30 étuis i...|Boîte carton, Sac...|fr:boite-carton,f...|Boite-carton,Sach...|                NULL|               Bijou|            xx:bijou|               bijou|          Confitures|en:plant-based-fo...|Aliments et boiss...|          NULL|             NULL|         NULL|        87500,France|             87500,france|Point Vert, Fabri...|en:green-dot,en:m...|Point Vert,Fabriq...|     NULL|          NULL|                    NULL|  NULL|       NULL|       Nantes,France|      Correspondance|             France|           en:france|          France|mûre bio 50% (fru...|en:blackberry,en:...|     en:palm-oil-free,...|en:eggs,en:gluten...|        NULL| en:nuts,en:soybeans| en:nuts,en:soybeans| Fruits à coque,Soja|          NULL|            NULL|             NULL|          1|     NULL|             en:e440|     E440 - Pectines|              17|               d|         4|       Sugary snacks|             Sweets|           en:sweets|en:sugary-snacks,...|en:Sugary snacks,...|en:to-be-complete...|en:to-be-complete...|À compléter,Infor...|       NULL|                       64|                        b|en:fat-in-low-qua...|           660.0| NULL|                    NULL|            12|top-50000-scans-2...|      0.8875|  1744975029|2025-04-18 11:17:09|             en:jams|          Confitures|https://images.op...|https://images.op...| https://images.op...|       https://images.op...|https://images.op...|     https://images.op...|        1056.0|     1056.0|                NULL|     0.3|              0.05|             NULL|             NULL|              NULL|            NULL|            NULL|              NULL|              NULL|             NULL|               NULL|             NULL|                NULL|             NULL|              NULL|              NULL|                NULL|                    NULL|            NULL|                    NULL|            NULL|            NULL|                     NULL|                      NULL|                     NULL|              NULL|                 NULL|                     NULL|                            NULL|           NULL|             NULL|             NULL|          NULL|            NULL|              NULL|          NULL|            NULL|              60.0|       59.0|             NULL|        NULL|        NULL|         NULL|          NULL|        NULL|        NULL|              NULL|       NULL|        NULL|           NULL|       2.0|              NULL|                NULL|          0.5|       NULL|               NULL|            NULL|     0.05|           NULL|       0.02|        NULL|          NULL|              NULL|          NULL|          NULL|          NULL|          NULL|           NULL|           NULL|           NULL|           NULL|           NULL|        NULL|            NULL|       NULL|                 NULL|       NULL|            NULL|          NULL|         NULL|        NULL|           NULL|     NULL|          NULL|     NULL|       NULL|          NULL|         NULL|         NULL|         NULL|           NULL|       NULL|         NULL|        NULL|   NULL|                       NULL|                             NULL|                                NULL|                                                 50.0|                            NULL|      NULL|           NULL|                 NULL|                                   NULL|                     17|                   NULL|               NULL|               NULL|        NULL|              NULL|            NULL|         NULL|          NULL|         NULL|        NULL|        NULL|                    NULL|        252.3901|\n",
            "|       104.0|http://world-fr.o...|             beniben|1450776565|2015-12-22 09:29:25|     1736848954|   2025-01-14 10:02:34|      prepperapp|    1743520073|  2025-04-01 15:07:53|   30 Panach' Fruits|                    NULL|Assortiment de ca...|               750ml|Plastique, Boîte,...|en:plastic,en:box...|Plastique,Boîte,C...|                NULL|Bijou, Nordischer...|xx:bijou,xx:nordi...|bijou,nordischer-...|Boissons et prépa...|en:beverages-and-...|Boissons et prépa...|          NULL|             NULL|         NULL|              France|                   france|                NULL|                NULL|                NULL|     NULL|          NULL|                    NULL|  NULL|       NULL|              France|                NULL|Frankreich, Germany|en:france,en:germany|France,Allemagne|Pâtisseries fourr...|fr:patisseries-fo...|     en:may-contain-pa...|                NULL|        NULL| en:nuts,en:soybeans| en:nuts,en:soybeans| Fruits à coque,Soja|           33g|            33.0|             NULL|          9|     NULL|en:e202,en:e330,e...|E202 - Sorbate de...|              11|               e|         4|           Beverages|Sweetened beverages|en:sweetened-beve...|en:beverages,en:s...|en:Beverages,en:S...|en:to-be-complete...|en:to-be-complete...|À compléter,Infor...|       NULL|                     NULL|                  unknown|en:fat-in-high-qu...|           750.0| NULL|                    NULL|             1|top-country-fr-sc...|      0.8875|  1736848954|2025-01-14 10:02:34|fr:gouters-indivi...| Gouters-individuels|https://images.op...|https://images.op...| https://images.op...|       https://images.op...|https://images.op...|     https://images.op...|          NULL|     1724.0|                NULL|    18.0|               2.0|             NULL|             NULL|              NULL|            NULL|            NULL|              NULL|              NULL|             NULL|               NULL|             NULL|                NULL|             NULL|              NULL|              NULL|                NULL|                    NULL|            NULL|                    NULL|            NULL|            NULL|                     NULL|                      NULL|                     NULL|              NULL|                 NULL|                     NULL|                            NULL|           NULL|             NULL|             NULL|          NULL|            NULL|              NULL|          NULL|            NULL|              57.0|       31.0|             NULL|        NULL|        NULL|         NULL|          NULL|        NULL|        NULL|              NULL|       NULL|        NULL|           NULL|       1.0|              NULL|                NULL|          5.0|       NULL|               NULL|            NULL|     0.63|           NULL|      0.252|        NULL|          NULL|              NULL|          NULL|          NULL|          NULL|          NULL|           NULL|           NULL|           NULL|           NULL|           NULL|        NULL|            NULL|       NULL|                 NULL|       NULL|            NULL|          NULL|         NULL|        NULL|           NULL|     NULL|          NULL|     NULL|       NULL|          NULL|         NULL|         NULL|         NULL|           NULL|       NULL|         NULL|        NULL|   NULL|                       NULL|                             NULL|                                NULL|                                                140.8|                            NULL|      NULL|           NULL|                 NULL|                                   NULL|                     11|                   NULL|               NULL|               NULL|        NULL|              NULL|            NULL|         NULL|          NULL|         NULL|        NULL|        NULL|                    NULL|        412.0459|\n",
            "|       127.0|http://world-fr.o...|           seiferflo|1561322907|2019-06-23 20:48:27|     1737841896|   2025-01-25 21:51:36|      roboto-app|    1743325376|  2025-03-30 09:02:56|Whey Protein - Ch...|                    NULL|Complément alimen...|         90 capsules|    Flacon, Gellules| en:vial,fr:gellules|     Flacon,Gellules|                NULL|             Bodylab|          xx:bodylab|             bodylab|Compléments alime...|en:dietary-supple...|Compléments alime...|          NULL|             NULL|         NULL|           Allemagne|                allemagne|Végétarien, Végét...|en:vegetarian,en:...|Végétarien,Végéta...|     NULL|          NULL|                    NULL|  NULL|       NULL|                NULL|              Amazon|             France|           en:france|          France|L-choline-bitartr...|fr:l-choline-bita...|     en:palm-oil-conte...|                NULL|        NULL|                NULL|                NULL|                NULL|          30 g|            30.0|             NULL|          0|     NULL|                NULL|                NULL|            NULL|  not-applicable|      NULL|             unknown|            unknown|                NULL|                NULL|                NULL|en:to-be-complete...|en:to-be-complete...|À compléter,Infor...|       NULL|                     NULL|                  unknown|en:fat-in-moderat...|             0.0| NULL|    en:energy-value-i...|             3|bottom-25-percent...|       0.775|  1737841150|2025-01-25 21:39:10|en:dietary-supple...|Compléments alime...|https://images.op...|https://images.op...| https://images.op...|       https://images.op...|https://images.op...|     https://images.op...|        1253.0|     1253.0|                NULL|     6.0|              0.04|             NULL|             NULL|              NULL|            NULL|            NULL|              NULL|              NULL|             NULL|               NULL|             NULL|                NULL|             NULL|              NULL|              NULL|                NULL|                    NULL|            NULL|                    NULL|            NULL|            NULL|                     NULL|                      NULL|                     NULL|              NULL|                 NULL|                     NULL|                            NULL|           NULL|             NULL|             NULL|          NULL|            NULL|              NULL|          NULL|            NULL|               8.2|      11.06|             NULL|        NULL|        NULL|         NULL|          NULL|        NULL|        NULL|              NULL|       NULL|        NULL|           NULL|      NULL|              NULL|                NULL|         73.0|       NULL|               NULL|            NULL|     0.03|           NULL|      0.012|        NULL|          NULL|              NULL|          NULL|          NULL|          NULL|          NULL|           NULL|           NULL|           NULL|           NULL|           NULL|        NULL|            NULL|       NULL|                 NULL|       NULL|            NULL|          NULL|         NULL|        NULL|           NULL|     NULL|          NULL|     NULL|       NULL|          NULL|         NULL|         NULL|         NULL|           NULL|       NULL|         NULL|        NULL|   NULL|                       NULL|                             NULL|                                NULL|                                     8.03571428571429|                            NULL|      NULL|           NULL|                 NULL|                                   NULL|                   NULL|                   NULL|               NULL|               NULL|        NULL|              NULL|            NULL|         NULL|          NULL|         NULL|        NULL|        NULL|                    NULL|        299.4742|\n",
            "|       156.0|http://world-fr.o...|openfoodfacts-con...|1591617532|2020-06-08 11:58:52|     1744930259|   2025-04-17 22:50:59|    smoothie-app|    1744930259|  2025-04-17 22:50:59|        Soja Protein|                    NULL|Tè biologico giap...|               100 g|                NULL|                NULL|                NULL|                NULL|           Alphatier|        xx:alphatier|           alphatier|it:bevande, it:be...|en:beverages-and-...|Boissons et prépa...|          NULL|             NULL|         NULL|                NULL|                     NULL|Senza glutine, Bi...|en:no-gluten,en:o...|Sans gluten,Bio,V...|     NULL|          NULL|                    NULL|  NULL|       NULL|                NULL|                NULL|             Spain,|            en:spain|         Espagne|                NULL|                NULL|     en:vegan,en:veget...|                NULL|        NULL|                NULL|                NULL|                NULL|          NULL|            NULL|             true|       NULL|     NULL|                NULL|                NULL|              17|               e|      NULL|             unknown|            unknown|                NULL|                NULL|                NULL|en:to-be-complete...|en:to-be-complete...|À compléter,Infor...|       NULL|                      100|                   a-plus|                NULL|           100.0| NULL|                    NULL|             1|bottom-25-percent...|      0.5625|  1744930257|2025-04-17 22:50:57|             en:teas|                Thés|https://images.op...|https://images.op...| https://images.op...|       https://images.op...|                NULL|                     NULL|          NULL|     1582.0|                NULL|     0.4|               0.3|             NULL|             NULL|              NULL|            NULL|            NULL|              NULL|              NULL|             NULL|               NULL|             NULL|                NULL|             NULL|              NULL|              NULL|                NULL|                    NULL|            NULL|                    NULL|            NULL|            NULL|                     NULL|                      NULL|                     NULL|              NULL|                 NULL|                     NULL|                            NULL|           NULL|             NULL|             NULL|          NULL|            NULL|              NULL|          NULL|            NULL|               1.3|        0.4|             NULL|        NULL|        NULL|         NULL|          NULL|        NULL|        NULL|              NULL|       NULL|        NULL|           NULL|      2.78|              NULL|                NULL|         91.0|       NULL|               NULL|            NULL|      2.9|           NULL|       1.16|        NULL|          NULL|              NULL|          NULL|          NULL|          NULL|          NULL|           NULL|           NULL|           NULL|           NULL|           NULL|        NULL|            NULL|       NULL|                 NULL|       NULL|            NULL|          NULL|         NULL|        NULL|           NULL|     NULL|          NULL|     NULL|       NULL|          NULL|         NULL|         NULL|         NULL|           NULL|       NULL|         NULL|        NULL|   NULL|                       NULL|                             NULL|                                NULL|                                                 NULL|                            NULL|      NULL|           NULL|                 NULL|                                   NULL|                     17|                   NULL|               NULL|               NULL|        NULL|              NULL|            NULL|         NULL|          NULL|         NULL|        NULL|        NULL|                    NULL|        378.1071|\n",
            "|       227.0|http://world-fr.o...|             beniben|1480624157|2016-12-01 20:29:17|     1728034789|   2024-10-04 09:39:49|    fix-code-bot|    1743502459|  2025-04-01 10:14:19|Bijou Caramel Cho...|                    NULL|Pâtisseries fourr...|740 g (20 étuis i...|Boîte carton, Sac...|fr:boite-carton,f...|Boite-carton,Sach...|                NULL|               Bijou|            xx:bijou|               bijou|Snacks, Snacks su...|en:snacks,en:swee...|Snacks,Snacks suc...|          NULL|             NULL|         NULL|        France,87500|             france,87500|Point Vert, Fabri...|en:green-dot,en:m...|Point Vert,Fabriq...|     NULL|          NULL|                    NULL|  NULL|       NULL|       France,Nantes|      Correspondance|             France|           en:france|          France|Farine de _blé_, ...|en:wheat-flour,en...|     en:may-contain-pa...|en:eggs,en:gluten...|        NULL|             en:nuts|             en:nuts|      Fruits à coque|          37 g|            37.0|             NULL|          8|     NULL|en:e202,en:e322,e...|E202 - Sorbate de...|              22|               e|         4|       Sugary snacks| Biscuits and cakes|en:biscuits-and-c...|en:sugary-snacks,...|en:Sugary snacks,...|en:to-be-complete...|en:to-be-complete...|À compléter,Infor...|       NULL|                       31|                        d|en:fat-in-moderat...|           740.0| NULL|                    NULL|             2|top-100000-scans-...|      0.8875|  1480624189|2016-12-01 20:29:49|     en:filled-cakes|     Gâteaux fourrés|https://images.op...|https://images.op...| https://images.op...|       https://images.op...|https://images.op...|     https://images.op...|        1807.0|     1807.0|                NULL|    20.0|               5.0|             NULL|             NULL|              NULL|            NULL|            NULL|              NULL|              NULL|             NULL|               NULL|             NULL|                NULL|             NULL|              NULL|              NULL|                NULL|                    NULL|            NULL|                    NULL|            NULL|            NULL|                     NULL|                      NULL|                     NULL|              NULL|                 NULL|                     NULL|                            NULL|           NULL|             NULL|             NULL|          NULL|            NULL|              NULL|          NULL|            NULL|              57.0|       37.0|             NULL|        NULL|        NULL|         NULL|          NULL|        NULL|        NULL|              NULL|       NULL|        NULL|           NULL|       1.0|              NULL|                NULL|          5.3|       NULL|               NULL|            NULL|      0.7|           NULL|       0.28|        NULL|          NULL|              NULL|          NULL|          NULL|          NULL|          NULL|           NULL|           NULL|           NULL|           NULL|           NULL|        NULL|            NULL|       NULL|                 NULL|       NULL|            NULL|          NULL|         NULL|        NULL|           NULL|     NULL|          NULL|     NULL|       NULL|          NULL|         NULL|         NULL|         NULL|           NULL|       NULL|         NULL|        NULL|   NULL|                       NULL|                             NULL|                                NULL|                                                  4.0|                            NULL|      NULL|           NULL|                 NULL|                                   NULL|                     22|                   NULL|               NULL|               NULL|        NULL|              NULL|            NULL|         NULL|          NULL|         NULL|        NULL|        NULL|                    NULL|        431.8834|\n",
            "|       231.0|http://world-fr.o...|openfoodfacts-con...|1433550476|2015-06-06 00:27:56|     1740054996|   2025-02-20 12:36:36|            NULL|    1740054996|  2025-02-20 12:36:36|Bramwells America...|                    NULL| Peanut Butter, S...|               739 g|         Plastic jar|         plastic-jar|         Plastic-jar|                NULL| Herbalife Nutrition| herbalife-nutrition| Herbalife-nutrition|Plant-based foods...|en:plant-based-fo...|Aliments et boiss...| United States|    united-states|United-states|       United States|            united-states|High proteins, No...|en:high-proteins,...|Riche en protéine...|     NULL|          NULL|                    NULL|  NULL|       NULL|Kempsey,NSW,Austr...|         Aldi, Coles|          Australia|        en:australia|       Australie|Fructose, Soy Pro...|en:fructose,en:ad...|     en:palm-oil-conte...|                NULL|        NULL|                NULL|                NULL|                NULL|           25g|            25.0|             NULL|          5|     NULL|en:e341,en:e341ii...|E341 - Phosphates...|              18|               d|         4|Cereals and potatoes|            Legumes|          en:legumes|en:cereals-and-po...|en:Cereals and po...|en:to-be-complete...|en:to-be-complete...|À compléter,Infor...|       NULL|                       35|                        d|en:fat-in-moderat...|           739.0| NULL|    en:energy-value-i...|             1|top-75-percent-sc...|      0.9625|  1740054996|2025-02-20 12:36:36|   en:peanut-butters|Beurres de cacahu...|https://images.op...|https://images.op...|                 NULL|                       NULL|                NULL|                     NULL|        3160.0|     3160.0|                NULL|     4.0|               2.0|             NULL|             NULL|              NULL|            NULL|            NULL|              NULL|              NULL|             NULL|               NULL|             NULL|                NULL|             NULL|              NULL|              NULL|                NULL|                    NULL|            NULL|                    NULL|            NULL|            NULL|                     NULL|                      NULL|                     NULL|              NULL|                 NULL|                     NULL|                            NULL|           NULL|             NULL|             NULL|          NULL|            NULL|              NULL|           0.0|             0.0|              56.0|       28.0|             NULL|        NULL|        NULL|         NULL|          NULL|        NULL|        NULL|              NULL|       NULL|        NULL|           NULL|       8.0|              NULL|                NULL|         28.0|       NULL|               NULL|            NULL|      1.7|           NULL|       0.68|        NULL|          NULL|              NULL|          NULL|          NULL|          NULL|          NULL|           NULL|           NULL|           NULL|           NULL|           NULL|        NULL|            NULL|       NULL|                 NULL|       NULL|            NULL|          NULL|         NULL|        NULL|           NULL|     NULL|          NULL|     NULL|       NULL|          NULL|         NULL|         NULL|         NULL|           NULL|       NULL|         NULL|        NULL|   NULL|                       NULL|                             NULL|                                NULL|                                   0.0467936197916643|                            NULL|      NULL|           NULL|                 NULL|                                   NULL|                     18|                   NULL|               NULL|               NULL|        NULL|              NULL|            NULL|         NULL|          NULL|         NULL|        NULL|        NULL|                    NULL|        755.2581|\n",
            "|       259.0|http://world-fr.o...|openfoodfacts-con...|1562219260|2019-07-04 05:47:40|     1728037441|   2024-10-04 10:24:01|    fix-code-bot|    1743324528|  2025-03-30 08:48:48|Barrette cioccola...|                    NULL|barretta proteich...|               490 g|               Boîte|              en:box|               Boîte|                NULL|           Herbalife|        xx:herbalife|           herbalife|Botanas,Snacks du...|en:snacks,en:swee...|Snacks,Snacks suc...|          NULL|             NULL|         NULL|                NULL|                     NULL|                NULL|                NULL|                NULL|     NULL|          NULL|                    NULL|  NULL|       NULL|                NULL|                NULL|     Francia,España|  en:france,en:spain|  France,Espagne|Concentré de prot...|en:milk-proteins,...|     en:palm-oil-free,...| en:milk,en:soybeans|        NULL|   en:gluten,en:nuts|   en:gluten,en:nuts|Gluten,Fruits à c...|            35|            NULL|             NULL|          3|     NULL|en:e150,en:e322,e...|E150 - Caramel,E3...|            NULL|  not-applicable|         4|             unknown|            unknown|                NULL|                NULL|                NULL|en:to-be-complete...|en:to-be-complete...|À compléter,Infor...|       NULL|                     NULL|                  unknown|en:fat-in-moderat...|           490.0| NULL|                    NULL|             2|bottom-25-percent...|      0.8625|  1700301356|2023-11-18 09:55:56|en:dietary-supple...|Compléments alime...|https://images.op...|https://images.op...| https://images.op...|       https://images.op...|https://images.op...|     https://images.op...|        1678.0|     1678.0|                NULL|    12.0|               5.2|             NULL|             NULL|              NULL|            NULL|            NULL|              NULL|              NULL|             NULL|               NULL|             NULL|                NULL|             NULL|              NULL|              NULL|                NULL|                    NULL|            NULL|                    NULL|            NULL|            NULL|                     NULL|                      NULL|                     NULL|              NULL|                 NULL|                     NULL|                            NULL|           NULL|             NULL|             NULL|          NULL|            NULL|              NULL|          NULL|            NULL|              45.0|       31.0|             NULL|        NULL|        NULL|         NULL|          NULL|        NULL|        NULL|              NULL|       NULL|        NULL|           NULL|       1.0|              NULL|                NULL|         28.0|       NULL|               NULL|            NULL|     0.11|           NULL|      0.044|        NULL|          NULL|              NULL|          NULL|          NULL|          NULL|          NULL|           NULL|           NULL|           NULL|           NULL|           NULL|        NULL|            NULL|       NULL|                 NULL|       NULL|            NULL|          NULL|         NULL|        NULL|           NULL|     NULL|          NULL|     NULL|       NULL|          NULL|         NULL|         NULL|         NULL|           NULL|       NULL|         NULL|        NULL|   NULL|                       NULL|                             NULL|                                NULL|                                                 10.0|                            NULL|      NULL|           NULL|                 NULL|                                   NULL|                   NULL|                   NULL|               NULL|               NULL|        NULL|              NULL|            NULL|         NULL|          NULL|         NULL|        NULL|        NULL|                    NULL|        401.0516|\n",
            "|       688.0|http://world-fr.o...|           mushobeti|1569907487|2019-10-01 05:24:47|     1728655988|   2024-10-11 14:13:08|    fix-code-bot|    1743689477|  2025-04-03 14:11:17|DONNETES UNICORN ...|                    NULL|DONNETES CON COBE...|                   1|                NULL|                NULL|                NULL|                NULL|                NULL|                NULL|                NULL|                NULL|                NULL|                NULL|          NULL|             NULL|         NULL|                NULL|                     NULL|                NULL|                NULL|                NULL|     NULL|          NULL|                    NULL|  NULL|       NULL|                NULL|                NULL|             España|            en:spain|         Espagne|                NULL|                NULL|                     NULL|                NULL|        NULL|                NULL|                NULL|                NULL|          NULL|            NULL|             NULL|       NULL|     NULL|                NULL|                NULL|            NULL|         unknown|      NULL|             unknown|            unknown|                NULL|                NULL|                NULL|en:to-be-complete...|en:to-be-complete...|À compléter,Infor...|       NULL|                     NULL|                  unknown|                NULL|             0.0| NULL|                    NULL|          NULL|                NULL|      0.2625|  1569907598|2019-10-01 05:26:38|                NULL|                NULL|https://images.op...|https://images.op...|                 NULL|                       NULL|                NULL|                     NULL|          NULL|       NULL|                NULL|    NULL|              NULL|             NULL|             NULL|              NULL|            NULL|            NULL|              NULL|              NULL|             NULL|               NULL|             NULL|                NULL|             NULL|              NULL|              NULL|                NULL|                    NULL|            NULL|                    NULL|            NULL|            NULL|                     NULL|                      NULL|                     NULL|              NULL|                 NULL|                     NULL|                            NULL|           NULL|             NULL|             NULL|          NULL|            NULL|              NULL|          NULL|            NULL|              NULL|       NULL|             NULL|        NULL|        NULL|         NULL|          NULL|        NULL|        NULL|              NULL|       NULL|        NULL|           NULL|      NULL|              NULL|                NULL|         NULL|       NULL|               NULL|            NULL|     NULL|           NULL|       NULL|        NULL|          NULL|              NULL|          NULL|          NULL|          NULL|          NULL|           NULL|           NULL|           NULL|           NULL|           NULL|        NULL|            NULL|       NULL|                 NULL|       NULL|            NULL|          NULL|         NULL|        NULL|           NULL|     NULL|          NULL|     NULL|       NULL|          NULL|         NULL|         NULL|         NULL|           NULL|       NULL|         NULL|        NULL|   NULL|                       NULL|                             NULL|                                NULL|                                                 NULL|                            NULL|      NULL|           NULL|                 NULL|                                   NULL|                   NULL|                   NULL|               NULL|               NULL|        NULL|              NULL|            NULL|         NULL|          NULL|         NULL|        NULL|        NULL|                    NULL|            NULL|\n",
            "|       758.0|http://world-fr.o...|             tacinte|1409582884|2014-09-01 14:48:04|     1644575594|   2022-02-11 10:33:14|         packbot|    1738686122|  2025-02-04 16:22:02|         Cauliflower|                    NULL|         Cauliflower|                   1|Plastic, Bag, Ldp...|en:plastic,en:bag...|Plastique,Sachet,...|                NULL|Sainsbury's,by sa...|sainsbury-s,by-sa...|Sainsbury's,By-sa...|Plant-based foods...|en:plant-based-fo...|Aliments et boiss...|United Kingdom|en:united-kingdom|  Royaume-Uni|                NULL|                     NULL|                NULL|                NULL|                NULL|     NULL|          NULL|                    NULL|  NULL|       NULL|Liverpool,United ...|         Sainsbury's|     United Kingdom|   en:united-kingdom|     Royaume-Uni|         Cauliflower|en:cauliflower,en...|     en:palm-oil-free,...|                NULL|        NULL|                NULL|                NULL|                NULL|          NULL|            NULL|             NULL|          0|     NULL|                NULL|                NULL|            NULL|         unknown|         1|Fruits and vegeta...|         Vegetables|       en:vegetables|en:fruits-and-veg...|Fruits et légumes...|en:to-be-complete...|en:to-be-complete...|À compléter,Infor...|       NULL|                     NULL|                     NULL|en:fat-in-low-qua...|            NULL| NULL|                    NULL|             1|top-100000-scans-...|      0.9875|  1409582972|2014-09-01 14:49:32|     en:cauliflowers|        Choux-fleurs|https://images.op...|https://images.op...| https://images.op...|       https://images.op...|https://images.op...|     https://images.op...|         144.0|      144.0|                NULL|     0.9|              NULL|             NULL|             NULL|              NULL|            NULL|            NULL|              NULL|              NULL|             NULL|               NULL|             NULL|                NULL|             NULL|              NULL|              NULL|                NULL|                    NULL|            NULL|                    NULL|            NULL|            NULL|                     NULL|                      NULL|                     NULL|              NULL|                 NULL|                     NULL|                            NULL|           NULL|             NULL|             NULL|          NULL|            NULL|              NULL|          NULL|            NULL|               2.9|        2.5|             NULL|        NULL|        NULL|         NULL|          NULL|        NULL|        NULL|              NULL|        0.4|        NULL|           NULL|       1.8|              NULL|                NULL|          3.6|       NULL|               NULL|            NULL|      0.0|           NULL|        0.0|        NULL|          NULL|              NULL|          NULL|          NULL|          NULL|         0.043|           NULL|           NULL|           NULL|           NULL|         6.6E-5|        NULL|            NULL|       NULL|                 NULL|       NULL|            NULL|          NULL|         NULL|        NULL|           NULL|     NULL|          NULL|     NULL|       NULL|          NULL|         NULL|         NULL|         NULL|           NULL|       NULL|         NULL|        NULL|   NULL|                       NULL|                             NULL|                                NULL|                                                100.0|                            NULL|      NULL|           NULL|                 NULL|                                   NULL|                   NULL|                   NULL|               NULL|               NULL|        NULL|              NULL|            NULL|         NULL|          NULL|         NULL|        NULL|        NULL|                    NULL|         34.4168|\n",
            "|       833.0|http://world-fr.o...|             kiliweb|1642186417|2022-01-14 18:53:37|     1738340935|   2025-01-31 16:28:55|        dangboy9|    1738686804|  2025-02-04 16:33:24|          Chromebook|                    NULL|          Chromebook|      One (1) Laptop|                NULL|                NULL|                NULL|Dependent on meth...|                  HP|                  hp|                  Hp|Beverages and bev...|en:beverages-and-...|Boissons et prépa...|         Earth|         en:earth|     en:earth|china,United Stat...|     china,united-stat...|                NULL|                NULL|                NULL|     NULL|          NULL|                    NULL|  NULL|       NULL|                NULL|                NULL|      United States|    en:united-states|      États-Unis|Processor  Memory...|en:processor-memo...|     en:palm-oil-conte...|en:peanuts,en:Str...|        NULL|             en:Gold|             en:gold|             en:gold|One (1) Laptop|            NULL|             NULL|          0|     NULL|                NULL|                NULL|            NULL|         unknown|      NULL|           Beverages|       Fruit juices|en:unsweetened-be...|en:beverages,en:u...|en:Beverages,en:U...|en:to-be-complete...|en:to-be-complete...|À compléter,Infor...|       NULL|                       64|                        b|                NULL|             0.0| NULL|    en:energy-value-i...|             1|top-75-percent-sc...|       0.875|  1725541000|2024-09-05 12:56:40|           en:potato|           en:potato|https://images.op...|https://images.op...|                 NULL|                       NULL|https://images.op...|     https://images.op...|          NULL|       NULL|                NULL|    NULL|              NULL|             NULL|             NULL|              NULL|            NULL|            NULL|              NULL|              NULL|             NULL|               NULL|             NULL|                NULL|             NULL|              NULL|              NULL|                NULL|                    NULL|            NULL|                    NULL|            NULL|            NULL|                     NULL|                      NULL|                     NULL|              NULL|                 NULL|                     NULL|                            NULL|           NULL|             NULL|             NULL|          NULL|            NULL|              NULL|          NULL|            NULL|              NULL|       NULL|             NULL|        NULL|        NULL|         NULL|          NULL|        NULL|        NULL|              NULL|       NULL|        NULL|           NULL|      NULL|              NULL|                NULL|         NULL|       NULL|               NULL|            NULL|     NULL|           NULL|       NULL|         0.0|          NULL|              NULL|          NULL|          NULL|          NULL|          NULL|           NULL|           NULL|           NULL|           NULL|           NULL|        NULL|            NULL|       NULL|                 NULL|       NULL|            NULL|          NULL|         NULL|        NULL|           NULL|     NULL|          NULL|     NULL|       NULL|          NULL|         NULL|         NULL|         NULL|           NULL|       NULL|         NULL|        NULL|   NULL|                       NULL|                             NULL|                                NULL|                                                  0.0|                            NULL|      NULL|           NULL|                 NULL|                                   NULL|                   NULL|                   NULL|               NULL|               NULL|        NULL|              NULL|            NULL|         NULL|          NULL|         NULL|        NULL|        NULL|                    NULL|            NULL|\n",
            "|1.01403175E8|http://world-fr.o...|           krishanti|1745377694|2025-04-23 03:08:14|     1745378744|   2025-04-23 03:25:44|       krishanti|    1745378744|  2025-04-23 03:25:44|              Bhendi|                    NULL|      Lady's Fingers|                500g|                NULL|                NULL|                NULL|                NULL|                More|             xx:more|                more|Plant-based foods...|en:plant-based-fo...|Aliments et boiss...|          NULL|             NULL|         NULL|                NULL|                     NULL|Vegetarian,Green ...|en:vegetarian,en:...|Végétarien,en:Gre...|     NULL|          NULL|                    NULL|  NULL|       NULL|                NULL|                NULL|              India|            en:india|            Inde|              Bhendi|           en:bhendi|     en:palm-oil-conte...|                NULL|        NULL|                NULL|                NULL|                NULL|          NULL|            NULL|             NULL|          0|     NULL|                NULL|                NULL|            NULL|         unknown|      NULL|Fruits and vegeta...|         Vegetables|       en:vegetables|en:fruits-and-veg...|Fruits et légumes...|en:to-be-complete...|en:to-be-complete...|À compléter,Infor...|       NULL|                     NULL|                  unknown|                NULL|           500.0| NULL|                    NULL|          NULL|                NULL|      0.5625|  1745377722|2025-04-23 03:08:42|       en:vegetables|             Légumes|https://images.op...|https://images.op...|                 NULL|                       NULL|                NULL|                     NULL|          NULL|       NULL|                NULL|    NULL|              NULL|             NULL|             NULL|              NULL|            NULL|            NULL|              NULL|              NULL|             NULL|               NULL|             NULL|                NULL|             NULL|              NULL|              NULL|                NULL|                    NULL|            NULL|                    NULL|            NULL|            NULL|                     NULL|                      NULL|                     NULL|              NULL|                 NULL|                     NULL|                            NULL|           NULL|             NULL|             NULL|          NULL|            NULL|              NULL|          NULL|            NULL|              NULL|       NULL|             NULL|        NULL|        NULL|         NULL|          NULL|        NULL|        NULL|              NULL|       NULL|        NULL|           NULL|      NULL|              NULL|                NULL|         NULL|       NULL|               NULL|            NULL|     NULL|           NULL|       NULL|        NULL|          NULL|              NULL|          NULL|          NULL|          NULL|          NULL|           NULL|           NULL|           NULL|           NULL|           NULL|        NULL|            NULL|       NULL|                 NULL|       NULL|            NULL|          NULL|         NULL|        NULL|           NULL|     NULL|          NULL|     NULL|       NULL|          NULL|         NULL|         NULL|         NULL|           NULL|       NULL|         NULL|        NULL|   NULL|                       NULL|                             NULL|                                NULL|                                                  0.0|                            NULL|      NULL|           NULL|                 NULL|                                   NULL|                   NULL|                   NULL|               NULL|               NULL|        NULL|              NULL|            NULL|         NULL|          NULL|         NULL|        NULL|        NULL|                    NULL|            NULL|\n",
            "| 1.0322411E8|http://world-fr.o...|             kiliweb|1609763680|2021-01-04 12:34:40|     1728041552|   2024-10-04 11:32:32|    fix-code-bot|    1743680653|  2025-04-03 11:44:13|       Riovida Burst|                    NULL|     Fruit juice gel|              450 ml|                NULL|                NULL|                NULL|                NULL|               4life|            xx:4life|               4life|Plant-based foods...|en:plant-based-fo...|Aliments et boiss...|          NULL|             NULL|         NULL|                NULL|                     NULL|                NULL|                NULL|                NULL|     NULL|          NULL|                    NULL|  NULL|       NULL|                NULL|                NULL|             España|            en:spain|         Espagne|Apple juice (Malu...|en:apple-juice,en...|     en:palm-oil-conte...|             en:milk|        NULL|                NULL|                NULL|                NULL|         30 ml|            30.0|               on|          3|     NULL|en:e412,en:e415,e...|E412 - Gomme de g...|            NULL|         unknown|         4|           Beverages|       Fruit juices|en:unsweetened-be...|en:beverages,en:u...|en:Beverages,en:U...|en:to-be-complete...|en:to-be-complete...|À compléter,Infor...|       NULL|                       21|                        e|                NULL|           450.0| NULL|                    NULL|          NULL|                NULL|      0.6875|  1609763682|2021-01-04 12:34:42|en:multifruit-juices|     Jus multifruits|https://images.op...|https://images.op...| https://images.op...|       https://images.op...|https://images.op...|     https://images.op...|          NULL|       NULL|                NULL|    NULL|              NULL|             NULL|             NULL|              NULL|            NULL|            NULL|              NULL|              NULL|             NULL|               NULL|             NULL|                NULL|             NULL|              NULL|              NULL|                NULL|                    NULL|            NULL|                    NULL|            NULL|            NULL|                     NULL|                      NULL|                     NULL|              NULL|                 NULL|                     NULL|                            NULL|           NULL|             NULL|             NULL|          NULL|            NULL|              NULL|          NULL|            NULL|              NULL|       NULL|             NULL|        NULL|        NULL|         NULL|          NULL|        NULL|        NULL|              NULL|       NULL|        NULL|           NULL|      NULL|              NULL|                NULL|         NULL|       NULL|               NULL|            NULL|     NULL|           NULL|       NULL|        NULL|          NULL|              NULL|          NULL|          NULL|          NULL|          NULL|           NULL|           NULL|           NULL|           NULL|           NULL|        NULL|            NULL|       NULL|                 NULL|       NULL|            NULL|          NULL|         NULL|        NULL|           NULL|     NULL|          NULL|     NULL|       NULL|          NULL|         NULL|         NULL|         NULL|           NULL|       NULL|         NULL|        NULL|   NULL|                       NULL|                             NULL|                                NULL|                                           97.8515625|                            NULL|      NULL|           NULL|                 NULL|                                   NULL|                   NULL|                   NULL|               NULL|               NULL|        NULL|              NULL|            NULL|         NULL|          NULL|         NULL|        NULL|        NULL|                    NULL|            NULL|\n",
            "|      1042.0|http://world-fr.o...|             bank-pc|1652673433|2022-05-16 03:57:13|     1728041603|   2024-10-04 11:33:23|    fix-code-bot|    1731503884|  2024-11-13 13:18:04|คุกกี้สเปลท์เนยสด...|                    NULL|คุกกี้สเปลท์เนยสด...|                NULL|                NULL|                NULL|                NULL|                NULL|           Vistacafe|           vistacafe|           Vistacafe|ผลิตภัณฑ์จากนม, ข...|en:dairies,en:sna...|Produits laitiers...|          NULL|             NULL|         NULL|                NULL|                     NULL|                NULL|                NULL|                NULL|     NULL|          NULL|                    NULL|  NULL|       NULL|                NULL|                NULL|   ประเทศไทย (Thai)|         en:thailand|       Thaïlande|แป้งสเปลท์ออร์แกน...|th:แป้งสเปลท์ออร์...|     en:palm-oil-conte...|                NULL|        NULL|     en:eggs,en:milk|     en:eggs,en:milk|           Œufs,Lait|          NULL|            NULL|               on|          0|     NULL|                NULL|                NULL|            NULL|         unknown|      NULL|       Sugary snacks| Biscuits and cakes|en:biscuits-and-c...|en:sugary-snacks,...|en:Sugary snacks,...|en:to-be-complete...|en:to-be-complete...|À compléter,Infor...|       NULL|                     NULL|                     NULL|                NULL|            NULL| NULL|                    NULL|             1|top-75-percent-sc...|      0.5875|  1652673455|2022-05-16 03:57:35|        th:gaba-rice|        th:gaba-rice|https://images.op...|https://images.op...| https://images.op...|       https://images.op...|                NULL|                     NULL|          NULL|       NULL|                NULL|    NULL|              NULL|             NULL|             NULL|              NULL|            NULL|            NULL|              NULL|              NULL|             NULL|               NULL|             NULL|                NULL|             NULL|              NULL|              NULL|                NULL|                    NULL|            NULL|                    NULL|            NULL|            NULL|                     NULL|                      NULL|                     NULL|              NULL|                 NULL|                     NULL|                            NULL|           NULL|             NULL|             NULL|          NULL|            NULL|              NULL|          NULL|            NULL|              NULL|       NULL|             NULL|        NULL|        NULL|         NULL|          NULL|        NULL|        NULL|              NULL|       NULL|        NULL|           NULL|      NULL|              NULL|                NULL|         NULL|       NULL|               NULL|            NULL|     NULL|           NULL|       NULL|        NULL|          NULL|              NULL|          NULL|          NULL|          NULL|          NULL|           NULL|           NULL|           NULL|           NULL|           NULL|        NULL|            NULL|       NULL|                 NULL|       NULL|            NULL|          NULL|         NULL|        NULL|           NULL|     NULL|          NULL|     NULL|       NULL|          NULL|         NULL|         NULL|         NULL|           NULL|       NULL|         NULL|        NULL|   NULL|                       NULL|                             NULL|                                NULL|                                                  0.0|                            NULL|      NULL|           NULL|                 NULL|                                   NULL|                   NULL|                   NULL|               NULL|               NULL|        NULL|              NULL|            NULL|         NULL|          NULL|         NULL|        NULL|        NULL|                    NULL|            NULL|\n",
            "|1.09092026E8|http://world-fr.o...|              badbnj|1496250082|2017-05-31 17:01:22|     1728036291|   2024-10-04 10:04:51|    fix-code-bot|    1743663900|  2025-04-03 07:05:00|Purée de pommes d...|                    NULL|Purée de pommes d...|                400g|            Conserve|           en:canned|            Conserve|                NULL|        Dosen Bistro|     xx:dosen-bistro|        dosen-bistro|Aliments et boiss...|en:plant-based-fo...|Aliments et boiss...|     Allemagne|       en:germany|    Allemagne|           Allemagne|                allemagne|                NULL|                NULL|                NULL|     NULL|          NULL|                    NULL|  NULL|       NULL|                NULL|                NULL|          Allemagne|          en:germany|       Allemagne|Patates, sel, suc...|fr:patates,en:sal...|     en:palm-oil-free,...|                NULL|        NULL|                NULL|                NULL|                NULL|          NULL|            NULL|             NULL|          0|     NULL|                NULL|                NULL|            NULL|         unknown|         3|Cereals and potatoes|           Potatoes|         en:potatoes|en:cereals-and-po...|en:Cereals and po...|en:to-be-complete...|en:to-be-complete...|À compléter,Infor...|       NULL|                     NULL|                  unknown|en:fat-in-moderat...|           400.0| NULL|                    NULL|          NULL|                NULL|         0.9|        NULL|               NULL|  en:mashed-potatoes|Purées de pommes ...|                NULL|                NULL|                 NULL|                       NULL|                NULL|                     NULL|          NULL|       NULL|                NULL|    5.64|              3.39|             NULL|             NULL|              NULL|            NULL|            NULL|              NULL|              NULL|             NULL|               NULL|             NULL|                NULL|             NULL|              NULL|              NULL|                NULL|                    NULL|            NULL|                    NULL|            NULL|            NULL|                     NULL|                      NULL|                     NULL|              NULL|                 NULL|                     NULL|                            NULL|           NULL|             NULL|             NULL|          NULL|            NULL|              NULL|          NULL|            NULL|             11.67|       1.64|             NULL|        NULL|        NULL|         NULL|          NULL|        NULL|        NULL|              NULL|       NULL|        NULL|           NULL|      NULL|              NULL|                NULL|         2.27|       NULL|               NULL|            NULL|      0.3|           NULL|       0.12|        NULL|          NULL|              NULL|          NULL|          NULL|          NULL|          NULL|           NULL|           NULL|           NULL|           NULL|           NULL|        NULL|            NULL|       NULL|                 NULL|       NULL|            NULL|          NULL|         NULL|        NULL|           NULL|     NULL|          NULL|     NULL|       NULL|          NULL|         NULL|         NULL|         NULL|           NULL|       NULL|         NULL|        NULL|   NULL|                       NULL|                             NULL|                                NULL|                                                  0.0|                            NULL|      NULL|           NULL|                 NULL|                                   NULL|                   NULL|                   NULL|               NULL|               NULL|        NULL|              NULL|            NULL|         NULL|          NULL|         NULL|        NULL|        NULL|                    NULL|            NULL|\n",
            "|      1100.0|http://world-fr.o...|openfoodfacts-con...|1536930488|2018-09-14 13:08:08|     1744643414|   2025-04-14 15:10:14|      prepperapp|    1744643414|  2025-04-14 15:10:14|Cigarettes Fourré...|                    NULL|Biscuit pâtissier...|  Boîte de 575 g net| Étuis de 2 biscuits|fr:etuis-de-2-bis...| Etuis-de-2-biscuits|                NULL|               BIJOU|            xx:bijou|               bijou|Snacks, Sweet sna...|en:snacks,en:swee...|Snacks,Snacks suc...|        France|        en:france|       France|     Limousin France|          limousin-france|                NULL|                NULL|                NULL|   001100|        001100|                    NULL|  NULL|       NULL|              France|Saint-Yreix,Limog...|Frankreich, Germany|en:france,en:germany|France,Allemagne|Fourrage chocolat...|fr:fourrage-choco...|     en:palm-oil,en:no...|en:gluten,en:milk...|        NULL|     en:eggs,en:nuts|     en:eggs,en:nuts| Œufs,Fruits à coque|           13g|            13.0|             NULL|          2|     NULL|    en:e150a,en:e322|E150a - Caramel E...|            NULL|  not-applicable|      NULL|       Sugary snacks| Biscuits and cakes|en:biscuits-and-c...|en:sugary-snacks,...|en:Sugary snacks,...|en:to-be-complete...|en:to-be-complete...|À compléter,Infor...|       NULL|                       69|                        b|en:fat-in-high-qu...|           575.0| NULL|                    NULL|             1|top-50000-scans-2...|      1.0875|  1744643413|2025-04-14 15:10:13|fr:biscuit-patiss...|Biscuit-patissier...|https://images.op...|https://images.op...| https://images.op...|       https://images.op...|https://images.op...|     https://images.op...|          NULL|     2042.0|                NULL|    21.0|              16.0|             NULL|             NULL|              NULL|            NULL|            NULL|              NULL|              NULL|             NULL|               NULL|             NULL|                NULL|             NULL|              NULL|              NULL|                NULL|                    NULL|            NULL|                    NULL|            NULL|            NULL|                     NULL|                      NULL|                     NULL|              NULL|                 NULL|                     NULL|                            NULL|           NULL|             NULL|             NULL|          NULL|            NULL|              NULL|          NULL|            NULL|              67.0|       48.0|             NULL|        NULL|        NULL|         NULL|          NULL|        NULL|        NULL|              NULL|       NULL|        NULL|           NULL|       3.5|              NULL|                NULL|          6.0|       NULL|               NULL|            NULL|     0.12|           NULL|      0.048|        NULL|          NULL|              NULL|          NULL|          NULL|          NULL|          NULL|           NULL|           NULL|           NULL|           NULL|           NULL|        NULL|            NULL|       NULL|                 NULL|       NULL|            NULL|          NULL|         NULL|        NULL|           NULL|     NULL|          NULL|     NULL|       NULL|          NULL|         NULL|         NULL|         NULL|           NULL|       NULL|         NULL|        NULL|   NULL|                       NULL|                             NULL|                                NULL|                                              1.09375|                            NULL|      NULL|           NULL|                 NULL|                                   NULL|                   NULL|                   NULL|               NULL|               NULL|        NULL|              NULL|            NULL|         NULL|          NULL|         NULL|        NULL|        NULL|                    NULL|        488.0497|\n",
            "|1.12302621E8|http://world-fr.o...|openfoodfacts-con...|1537115713|2018-09-16 16:35:13|     1728041913|   2024-10-04 11:38:33|    fix-code-bot|    1743357495|  2025-03-30 17:58:15|Potiron et vermic...|                    NULL|Soupe de potiron ...|              250 ml|              Brique|            en:brick|              Brique|                NULL|              Liebig|           xx:liebig|              liebig|Aliments et boiss...|en:plant-based-fo...|Aliments et boiss...|          NULL|             NULL|         NULL|                NULL|                     NULL|                NULL|                NULL|                NULL|     NULL|          NULL|                    NULL|  NULL|       NULL|                NULL|              auchan|             France|           en:france|          France|eau, légumes 30% ...|en:water,en:veget...|     en:palm-oil-free,...|en:eggs,en:gluten...|        NULL|           en:celery|           en:celery|              Céleri|          NULL|            NULL|             NULL|          1|     NULL|            en:e14xx|E14XX - Amidons m...|               3|               c|         4|Fruits and vegeta...|              Soups|            en:soups|en:fruits-and-veg...|Fruits et légumes...|en:to-be-complete...|en:to-be-complete...|À compléter,Infor...|       NULL|                       83|                        a|en:fat-in-low-qua...|           250.0| NULL|                    NULL|             1|bottom-25-percent...|      0.7875|  1544427904|2018-12-10 07:45:04|en:cream-of-pumpk...| Veloutés de potiron|https://images.op...|https://images.op...| https://images.op...|       https://images.op...|https://images.op...|     https://images.op...|          NULL|      109.0|                NULL|     0.4|               0.2|             NULL|             NULL|              NULL|            NULL|            NULL|              NULL|              NULL|             NULL|               NULL|             NULL|                NULL|             NULL|              NULL|              NULL|                NULL|                    NULL|            NULL|                    NULL|            NULL|            NULL|                     NULL|                      NULL|                     NULL|              NULL|                 NULL|                     NULL|                            NULL|           NULL|             NULL|             NULL|          NULL|            NULL|              NULL|          NULL|            NULL|               4.5|        1.7|             NULL|        NULL|        NULL|         NULL|          NULL|        NULL|        NULL|              NULL|       NULL|        NULL|           NULL|       0.8|              NULL|                NULL|          0.7|       NULL|               NULL|            NULL|      0.7|           NULL|       0.28|        NULL|          NULL|              NULL|          NULL|          NULL|          NULL|          NULL|           NULL|           NULL|           NULL|           NULL|           NULL|        NULL|            NULL|       NULL|                 NULL|       NULL|            NULL|          NULL|         NULL|        NULL|           NULL|     NULL|          NULL|     NULL|       NULL|          NULL|         NULL|         NULL|         NULL|           NULL|       NULL|         NULL|        NULL|   NULL|                       NULL|                             NULL|                                NULL|                                                 30.0|                            NULL|      NULL|           NULL|                 NULL|                                   NULL|                      3|                   NULL|               NULL|               NULL|        NULL|              NULL|            NULL|         NULL|          NULL|         NULL|        NULL|        NULL|                    NULL|         26.0516|\n",
            "|1.12302644E8|http://world-fr.o...|openfoodfacts-con...|1541784638|2018-11-09 17:30:38|     1728041916|   2024-10-04 11:38:36|    fix-code-bot|    1743347826|  2025-03-30 15:17:06|PurSoup' Mouliné ...|                    NULL|Soupe carottes, p...|              1litre|              Brique|            en:brick|              Brique|                NULL|              Liebig|           xx:liebig|              liebig|Plats préparés, S...|   en:meals,en:soups|Plats préparés,So...|          NULL|             NULL|         NULL|                NULL|                     NULL|                NULL|                NULL|                NULL|     NULL|          NULL|                    NULL|  NULL|       NULL|              France|                NULL|             France|           en:france|          France|eau, légumes 40 %...|en:water,en:veget...|     en:palm-oil-free,...|                NULL|        NULL|  fr:Céleri blé oeuf|  fr:celeri-ble-oeuf|     Celeri-ble-oeuf|          NULL|            NULL|             NULL|          1|     NULL|            en:e14xx|E14XX - Amidons m...|            NULL|         unknown|         4|     Composite foods|     One-dish meals|   en:one-dish-meals|en:composite-food...|en:Composite food...|en:to-be-complete...|en:to-be-complete...|À compléter,Infor...|       NULL|                     NULL|                  unknown|                NULL|          1000.0| NULL|                    NULL|          NULL|                NULL|       0.775|  1541784802|2018-11-09 17:33:22|            en:soups|              Soupes|                NULL|                NULL| https://images.op...|       https://images.op...|https://images.op...|     https://images.op...|          NULL|       NULL|                NULL|    NULL|              NULL|             NULL|             NULL|              NULL|            NULL|            NULL|              NULL|              NULL|             NULL|               NULL|             NULL|                NULL|             NULL|              NULL|              NULL|                NULL|                    NULL|            NULL|                    NULL|            NULL|            NULL|                     NULL|                      NULL|                     NULL|              NULL|                 NULL|                     NULL|                            NULL|           NULL|             NULL|             NULL|          NULL|            NULL|              NULL|          NULL|            NULL|              NULL|       NULL|             NULL|        NULL|        NULL|         NULL|          NULL|        NULL|        NULL|              NULL|       NULL|        NULL|           NULL|      NULL|              NULL|                NULL|         NULL|       NULL|               NULL|            NULL|     NULL|           NULL|       NULL|        NULL|          NULL|              NULL|          NULL|          NULL|          NULL|          NULL|           NULL|           NULL|           NULL|           NULL|           NULL|        NULL|            NULL|       NULL|                 NULL|       NULL|            NULL|          NULL|         NULL|        NULL|           NULL|     NULL|          NULL|     NULL|       NULL|          NULL|         NULL|         NULL|         NULL|           NULL|       NULL|         NULL|        NULL|   NULL|                       NULL|                             NULL|                                NULL|                                                41.25|                            NULL|      NULL|           NULL|                 NULL|                                   NULL|                   NULL|                   NULL|               NULL|               NULL|        NULL|              NULL|            NULL|         NULL|          NULL|         NULL|        NULL|        NULL|                    NULL|            NULL|\n",
            "|1.12302708E8|http://world-fr.o...|openfoodfacts-con...|1571851305|2019-10-23 17:21:45|     1728041927|   2024-10-04 11:38:47|    fix-code-bot|    1743317676|  2025-03-30 06:54:36|Velouté de 10 Lég...|                    NULL|Velouté de légume...|               1 L e|Brique, Carton, B...|en:brick,en:cardb...|Brique,Carton,Bri...|                NULL|              Liebig|           xx:liebig|              liebig|Aliments et boiss...|en:plant-based-fo...|Aliments et boiss...|          NULL|             NULL|         NULL|              France|                   france|Végétarien, Sans ...|en:vegetarian,en:...|Végétarien,Sans c...|     NULL|          NULL|                    NULL|  NULL|       NULL|       Nantes,France|             Leclerc|         Frankreich|           en:france|          France|Eau, jus de tomat...|en:water,fr:jus-d...|     en:palm-oil-free,...|   en:celery,en:milk|        NULL|   en:eggs,en:gluten|   en:eggs,en:gluten|         Œufs,Gluten|        250 ml|           250.0|             NULL|          0|     NULL|                NULL|                NULL|               3|               c|         4|Fruits and vegeta...|              Soups|            en:soups|en:fruits-and-veg...|Fruits et légumes...|en:to-be-complete...|en:to-be-complete...|À compléter,Infor...|       NULL|                       92|                   a-plus|en:fat-in-low-qua...|          1000.0| NULL|                    NULL|             6|bottom-25-percent...|      0.7875|  1583347520|2020-03-04 18:45:20|en:cream-of-veget...| Veloutés de légumes|https://images.op...|https://images.op...| https://images.op...|       https://images.op...|https://images.op...|     https://images.op...|         172.0|      172.0|                NULL|     1.9|               0.5|             NULL|             NULL|              NULL|            NULL|            NULL|              NULL|              NULL|             NULL|               NULL|             NULL|                NULL|             NULL|              NULL|              NULL|                NULL|                    NULL|            NULL|                    NULL|            NULL|            NULL|                     NULL|                      NULL|                     NULL|              NULL|                 NULL|                     NULL|                            NULL|           NULL|             NULL|             NULL|          NULL|            NULL|              NULL|          NULL|            NULL|               4.6|        1.1|             NULL|        NULL|        NULL|         NULL|          NULL|        NULL|        NULL|              NULL|       NULL|        NULL|           NULL|       1.0|              NULL|                NULL|          0.8|       NULL|               NULL|            NULL|     0.69|           NULL|      0.276|        NULL|          NULL|              NULL|          NULL|          NULL|          NULL|          NULL|           NULL|           NULL|           NULL|           NULL|           NULL|        NULL|            NULL|       NULL|                 NULL|       NULL|            NULL|          NULL|         NULL|        NULL|           NULL|     NULL|          NULL|     NULL|       NULL|          NULL|         NULL|         NULL|         NULL|           NULL|       NULL|         NULL|        NULL|   NULL|                       NULL|                             NULL|                                42.0|                                     34.8546645220588|                            NULL|      NULL|           NULL|                 NULL|                                   NULL|                      3|                   NULL|               NULL|               NULL|        NULL|              NULL|            NULL|         NULL|          NULL|         NULL|        NULL|        NULL|                    NULL|          41.109|\n",
            "+------------+--------------------+--------------------+----------+-------------------+---------------+----------------------+----------------+--------------+---------------------+--------------------+------------------------+--------------------+--------------------+--------------------+--------------------+--------------------+--------------------+--------------------+--------------------+--------------------+--------------------+--------------------+--------------------+--------------+-----------------+-------------+--------------------+-------------------------+--------------------+--------------------+--------------------+---------+--------------+------------------------+------+-----------+--------------------+--------------------+-------------------+--------------------+----------------+--------------------+--------------------+-------------------------+--------------------+------------+--------------------+--------------------+--------------------+--------------+----------------+-----------------+-----------+---------+--------------------+--------------------+----------------+----------------+----------+--------------------+-------------------+--------------------+--------------------+--------------------+--------------------+--------------------+--------------------+-----------+-------------------------+-------------------------+--------------------+----------------+-----+------------------------+--------------+--------------------+------------+------------+-------------------+--------------------+--------------------+--------------------+--------------------+---------------------+---------------------------+--------------------+-------------------------+--------------+-----------+--------------------+--------+------------------+-----------------+-----------------+------------------+----------------+----------------+------------------+------------------+-----------------+-------------------+-----------------+--------------------+-----------------+------------------+------------------+--------------------+------------------------+----------------+------------------------+----------------+----------------+-------------------------+--------------------------+-------------------------+------------------+---------------------+-------------------------+--------------------------------+---------------+-----------------+-----------------+--------------+----------------+------------------+--------------+----------------+------------------+-----------+-----------------+------------+------------+-------------+--------------+------------+------------+------------------+-----------+------------+---------------+----------+------------------+--------------------+-------------+-----------+-------------------+----------------+---------+---------------+-----------+------------+--------------+------------------+--------------+--------------+--------------+--------------+---------------+---------------+---------------+---------------+---------------+------------+----------------+-----------+---------------------+-----------+----------------+--------------+-------------+------------+---------------+---------+--------------+---------+-----------+--------------+-------------+-------------+-------------+---------------+-----------+-------------+------------+-------+---------------------------+---------------------------------+------------------------------------+-----------------------------------------------------+--------------------------------+----------+---------------+---------------------+---------------------------------------+-----------------------+-----------------------+-------------------+-------------------+------------+------------------+----------------+-------------+--------------+-------------+------------+------------+------------------------+----------------+\n",
            "only showing top 20 rows\n",
            "\n"
          ]
        }
      ],
      "source": [
        "df.filter(col(\"generic_name\").isNotNull()).show()"
      ]
    },
    {
      "cell_type": "code",
      "execution_count": null,
      "id": "59c5366e",
      "metadata": {
        "colab": {
          "base_uri": "https://localhost:8080/"
        },
        "id": "59c5366e",
        "outputId": "f6829f76-11d8-4f08-b47a-4683db45549f"
      },
      "outputs": [
        {
          "output_type": "stream",
          "name": "stdout",
          "text": [
            "173995\n"
          ]
        }
      ],
      "source": [
        "print(df.filter(col(\"generic_name\").isNotNull()).count())"
      ]
    },
    {
      "cell_type": "markdown",
      "id": "860056db",
      "metadata": {
        "id": "860056db"
      },
      "source": [
        "<small>\n",
        "\n",
        "**->Total de lignes : 3 561 284**\n",
        "**->Valeurs non nulles dans generic_name : 172 468**\n",
        "**->Taux de complétion : environ 4.8%**\n",
        "</small>"
      ]
    },
    {
      "cell_type": "code",
      "execution_count": null,
      "id": "7e9e43b9",
      "metadata": {
        "id": "7e9e43b9"
      },
      "outputs": [],
      "source": [
        "df_clean = df.drop(\"generic_name\")"
      ]
    },
    {
      "cell_type": "code",
      "execution_count": null,
      "id": "917b35c8",
      "metadata": {
        "colab": {
          "base_uri": "https://localhost:8080/",
          "height": 495
        },
        "id": "917b35c8",
        "outputId": "44b9abf4-2ad4-4ca8-8681-c657f89bede7"
      },
      "outputs": [
        {
          "output_type": "stream",
          "name": "stderr",
          "text": [
            "ERROR:root:KeyboardInterrupt while sending command.\n",
            "Traceback (most recent call last):\n",
            "  File \"/usr/local/lib/python3.11/dist-packages/py4j/java_gateway.py\", line 1038, in send_command\n",
            "    response = connection.send_command(command)\n",
            "               ^^^^^^^^^^^^^^^^^^^^^^^^^^^^^^^^\n",
            "  File \"/usr/local/lib/python3.11/dist-packages/py4j/clientserver.py\", line 511, in send_command\n",
            "    answer = smart_decode(self.stream.readline()[:-1])\n",
            "                          ^^^^^^^^^^^^^^^^^^^^^^\n",
            "  File \"/usr/lib/python3.11/socket.py\", line 718, in readinto\n",
            "    return self._sock.recv_into(b)\n",
            "           ^^^^^^^^^^^^^^^^^^^^^^^\n",
            "KeyboardInterrupt\n"
          ]
        },
        {
          "output_type": "error",
          "ename": "KeyboardInterrupt",
          "evalue": "",
          "traceback": [
            "\u001b[0;31m---------------------------------------------------------------------------\u001b[0m",
            "\u001b[0;31mKeyboardInterrupt\u001b[0m                         Traceback (most recent call last)",
            "\u001b[0;32m<ipython-input-17-197de2dd632f>\u001b[0m in \u001b[0;36m<cell line: 0>\u001b[0;34m()\u001b[0m\n\u001b[0;32m----> 1\u001b[0;31m \u001b[0mprint\u001b[0m\u001b[0;34m(\u001b[0m\u001b[0mdf\u001b[0m\u001b[0;34m.\u001b[0m\u001b[0mfilter\u001b[0m\u001b[0;34m(\u001b[0m\u001b[0mcol\u001b[0m\u001b[0;34m(\u001b[0m\u001b[0;34m\"brands\"\u001b[0m\u001b[0;34m)\u001b[0m\u001b[0;34m.\u001b[0m\u001b[0misNotNull\u001b[0m\u001b[0;34m(\u001b[0m\u001b[0;34m)\u001b[0m\u001b[0;34m)\u001b[0m\u001b[0;34m.\u001b[0m\u001b[0mcount\u001b[0m\u001b[0;34m(\u001b[0m\u001b[0;34m)\u001b[0m\u001b[0;34m)\u001b[0m\u001b[0;34m\u001b[0m\u001b[0;34m\u001b[0m\u001b[0m\n\u001b[0m",
            "\u001b[0;32m/usr/local/lib/python3.11/dist-packages/pyspark/sql/dataframe.py\u001b[0m in \u001b[0;36mcount\u001b[0;34m(self)\u001b[0m\n\u001b[1;32m   1236\u001b[0m         \u001b[0;36m3\u001b[0m\u001b[0;34m\u001b[0m\u001b[0;34m\u001b[0m\u001b[0m\n\u001b[1;32m   1237\u001b[0m         \"\"\"\n\u001b[0;32m-> 1238\u001b[0;31m         \u001b[0;32mreturn\u001b[0m \u001b[0mint\u001b[0m\u001b[0;34m(\u001b[0m\u001b[0mself\u001b[0m\u001b[0;34m.\u001b[0m\u001b[0m_jdf\u001b[0m\u001b[0;34m.\u001b[0m\u001b[0mcount\u001b[0m\u001b[0;34m(\u001b[0m\u001b[0;34m)\u001b[0m\u001b[0;34m)\u001b[0m\u001b[0;34m\u001b[0m\u001b[0;34m\u001b[0m\u001b[0m\n\u001b[0m\u001b[1;32m   1239\u001b[0m \u001b[0;34m\u001b[0m\u001b[0m\n\u001b[1;32m   1240\u001b[0m     \u001b[0;32mdef\u001b[0m \u001b[0mcollect\u001b[0m\u001b[0;34m(\u001b[0m\u001b[0mself\u001b[0m\u001b[0;34m)\u001b[0m \u001b[0;34m->\u001b[0m \u001b[0mList\u001b[0m\u001b[0;34m[\u001b[0m\u001b[0mRow\u001b[0m\u001b[0;34m]\u001b[0m\u001b[0;34m:\u001b[0m\u001b[0;34m\u001b[0m\u001b[0;34m\u001b[0m\u001b[0m\n",
            "\u001b[0;32m/usr/local/lib/python3.11/dist-packages/py4j/java_gateway.py\u001b[0m in \u001b[0;36m__call__\u001b[0;34m(self, *args)\u001b[0m\n\u001b[1;32m   1319\u001b[0m             \u001b[0mproto\u001b[0m\u001b[0;34m.\u001b[0m\u001b[0mEND_COMMAND_PART\u001b[0m\u001b[0;34m\u001b[0m\u001b[0;34m\u001b[0m\u001b[0m\n\u001b[1;32m   1320\u001b[0m \u001b[0;34m\u001b[0m\u001b[0m\n\u001b[0;32m-> 1321\u001b[0;31m         \u001b[0manswer\u001b[0m \u001b[0;34m=\u001b[0m \u001b[0mself\u001b[0m\u001b[0;34m.\u001b[0m\u001b[0mgateway_client\u001b[0m\u001b[0;34m.\u001b[0m\u001b[0msend_command\u001b[0m\u001b[0;34m(\u001b[0m\u001b[0mcommand\u001b[0m\u001b[0;34m)\u001b[0m\u001b[0;34m\u001b[0m\u001b[0;34m\u001b[0m\u001b[0m\n\u001b[0m\u001b[1;32m   1322\u001b[0m         return_value = get_return_value(\n\u001b[1;32m   1323\u001b[0m             answer, self.gateway_client, self.target_id, self.name)\n",
            "\u001b[0;32m/usr/local/lib/python3.11/dist-packages/py4j/java_gateway.py\u001b[0m in \u001b[0;36msend_command\u001b[0;34m(self, command, retry, binary)\u001b[0m\n\u001b[1;32m   1036\u001b[0m         \u001b[0mconnection\u001b[0m \u001b[0;34m=\u001b[0m \u001b[0mself\u001b[0m\u001b[0;34m.\u001b[0m\u001b[0m_get_connection\u001b[0m\u001b[0;34m(\u001b[0m\u001b[0;34m)\u001b[0m\u001b[0;34m\u001b[0m\u001b[0;34m\u001b[0m\u001b[0m\n\u001b[1;32m   1037\u001b[0m         \u001b[0;32mtry\u001b[0m\u001b[0;34m:\u001b[0m\u001b[0;34m\u001b[0m\u001b[0;34m\u001b[0m\u001b[0m\n\u001b[0;32m-> 1038\u001b[0;31m             \u001b[0mresponse\u001b[0m \u001b[0;34m=\u001b[0m \u001b[0mconnection\u001b[0m\u001b[0;34m.\u001b[0m\u001b[0msend_command\u001b[0m\u001b[0;34m(\u001b[0m\u001b[0mcommand\u001b[0m\u001b[0;34m)\u001b[0m\u001b[0;34m\u001b[0m\u001b[0;34m\u001b[0m\u001b[0m\n\u001b[0m\u001b[1;32m   1039\u001b[0m             \u001b[0;32mif\u001b[0m \u001b[0mbinary\u001b[0m\u001b[0;34m:\u001b[0m\u001b[0;34m\u001b[0m\u001b[0;34m\u001b[0m\u001b[0m\n\u001b[1;32m   1040\u001b[0m                 \u001b[0;32mreturn\u001b[0m \u001b[0mresponse\u001b[0m\u001b[0;34m,\u001b[0m \u001b[0mself\u001b[0m\u001b[0;34m.\u001b[0m\u001b[0m_create_connection_guard\u001b[0m\u001b[0;34m(\u001b[0m\u001b[0mconnection\u001b[0m\u001b[0;34m)\u001b[0m\u001b[0;34m\u001b[0m\u001b[0;34m\u001b[0m\u001b[0m\n",
            "\u001b[0;32m/usr/local/lib/python3.11/dist-packages/py4j/clientserver.py\u001b[0m in \u001b[0;36msend_command\u001b[0;34m(self, command)\u001b[0m\n\u001b[1;32m    509\u001b[0m         \u001b[0;32mtry\u001b[0m\u001b[0;34m:\u001b[0m\u001b[0;34m\u001b[0m\u001b[0;34m\u001b[0m\u001b[0m\n\u001b[1;32m    510\u001b[0m             \u001b[0;32mwhile\u001b[0m \u001b[0;32mTrue\u001b[0m\u001b[0;34m:\u001b[0m\u001b[0;34m\u001b[0m\u001b[0;34m\u001b[0m\u001b[0m\n\u001b[0;32m--> 511\u001b[0;31m                 \u001b[0manswer\u001b[0m \u001b[0;34m=\u001b[0m \u001b[0msmart_decode\u001b[0m\u001b[0;34m(\u001b[0m\u001b[0mself\u001b[0m\u001b[0;34m.\u001b[0m\u001b[0mstream\u001b[0m\u001b[0;34m.\u001b[0m\u001b[0mreadline\u001b[0m\u001b[0;34m(\u001b[0m\u001b[0;34m)\u001b[0m\u001b[0;34m[\u001b[0m\u001b[0;34m:\u001b[0m\u001b[0;34m-\u001b[0m\u001b[0;36m1\u001b[0m\u001b[0;34m]\u001b[0m\u001b[0;34m)\u001b[0m\u001b[0;34m\u001b[0m\u001b[0;34m\u001b[0m\u001b[0m\n\u001b[0m\u001b[1;32m    512\u001b[0m                 \u001b[0mlogger\u001b[0m\u001b[0;34m.\u001b[0m\u001b[0mdebug\u001b[0m\u001b[0;34m(\u001b[0m\u001b[0;34m\"Answer received: {0}\"\u001b[0m\u001b[0;34m.\u001b[0m\u001b[0mformat\u001b[0m\u001b[0;34m(\u001b[0m\u001b[0manswer\u001b[0m\u001b[0;34m)\u001b[0m\u001b[0;34m)\u001b[0m\u001b[0;34m\u001b[0m\u001b[0;34m\u001b[0m\u001b[0m\n\u001b[1;32m    513\u001b[0m                 \u001b[0;31m# Happens when a the other end is dead. There might be an empty\u001b[0m\u001b[0;34m\u001b[0m\u001b[0;34m\u001b[0m\u001b[0m\n",
            "\u001b[0;32m/usr/lib/python3.11/socket.py\u001b[0m in \u001b[0;36mreadinto\u001b[0;34m(self, b)\u001b[0m\n\u001b[1;32m    716\u001b[0m         \u001b[0;32mwhile\u001b[0m \u001b[0;32mTrue\u001b[0m\u001b[0;34m:\u001b[0m\u001b[0;34m\u001b[0m\u001b[0;34m\u001b[0m\u001b[0m\n\u001b[1;32m    717\u001b[0m             \u001b[0;32mtry\u001b[0m\u001b[0;34m:\u001b[0m\u001b[0;34m\u001b[0m\u001b[0;34m\u001b[0m\u001b[0m\n\u001b[0;32m--> 718\u001b[0;31m                 \u001b[0;32mreturn\u001b[0m \u001b[0mself\u001b[0m\u001b[0;34m.\u001b[0m\u001b[0m_sock\u001b[0m\u001b[0;34m.\u001b[0m\u001b[0mrecv_into\u001b[0m\u001b[0;34m(\u001b[0m\u001b[0mb\u001b[0m\u001b[0;34m)\u001b[0m\u001b[0;34m\u001b[0m\u001b[0;34m\u001b[0m\u001b[0m\n\u001b[0m\u001b[1;32m    719\u001b[0m             \u001b[0;32mexcept\u001b[0m \u001b[0mtimeout\u001b[0m\u001b[0;34m:\u001b[0m\u001b[0;34m\u001b[0m\u001b[0;34m\u001b[0m\u001b[0m\n\u001b[1;32m    720\u001b[0m                 \u001b[0mself\u001b[0m\u001b[0;34m.\u001b[0m\u001b[0m_timeout_occurred\u001b[0m \u001b[0;34m=\u001b[0m \u001b[0;32mTrue\u001b[0m\u001b[0;34m\u001b[0m\u001b[0;34m\u001b[0m\u001b[0m\n",
            "\u001b[0;31mKeyboardInterrupt\u001b[0m: "
          ]
        }
      ],
      "source": [
        "print(df.filter(col(\"brands\").isNotNull()).count())"
      ]
    },
    {
      "cell_type": "code",
      "execution_count": null,
      "id": "61537565",
      "metadata": {
        "colab": {
          "base_uri": "https://localhost:8080/"
        },
        "id": "61537565",
        "outputId": "02a0b13e-4b07-48e0-ce7f-9999368c3d3b"
      },
      "outputs": [
        {
          "output_type": "stream",
          "name": "stdout",
          "text": [
            "+------------------+\n",
            "|brands            |\n",
            "+------------------+\n",
            "|brand name unknown|\n",
            "|Gut & Gunstig     |\n",
            "|Jeff de Bruges    |\n",
            "|breizh cola       |\n",
            "|AdvoCare          |\n",
            "|SoLo              |\n",
            "|YI Nutrition      |\n",
            "|Oreos             |\n",
            "|brand name unknown|\n",
            "|Dukes             |\n",
            "+------------------+\n",
            "only showing top 10 rows\n",
            "\n"
          ]
        }
      ],
      "source": [
        "df_clean= df.fillna({\"brands\": \"brand name unknown\"})\n",
        "df_clean.select(\"brands\").show(10, truncate=False)"
      ]
    },
    {
      "cell_type": "code",
      "execution_count": null,
      "id": "dd2aed30",
      "metadata": {
        "id": "dd2aed30"
      },
      "outputs": [],
      "source": [
        "df.select(\"brands\",\"brands_tags\").show(truncate=False)"
      ]
    },
    {
      "cell_type": "code",
      "execution_count": null,
      "id": "355faf20",
      "metadata": {
        "colab": {
          "base_uri": "https://localhost:8080/"
        },
        "id": "355faf20",
        "outputId": "d601aeab-6844-4cb6-922b-fc02a7e324d7"
      },
      "outputs": [
        {
          "output_type": "stream",
          "name": "stdout",
          "text": [
            "3809945\n"
          ]
        }
      ],
      "source": [
        "df_clean= df.fillna({\"brands_tags\": \"xx:brand_name_unknown\"})\n",
        "#to make sure que j ai le nombre complet des lignes non null :\n",
        "print(df_clean.filter(col(\"brands_tags\").isNotNull()).count())"
      ]
    },
    {
      "cell_type": "code",
      "execution_count": null,
      "id": "5055d9e5",
      "metadata": {
        "id": "5055d9e5"
      },
      "outputs": [],
      "source": [
        "df.select(\"categories\", \"main_category\",\"categories_tags\", \"categories_fr\", \"main_category_fr\" ).show(truncate=False)"
      ]
    },
    {
      "cell_type": "code",
      "execution_count": null,
      "id": "fc77ac9f",
      "metadata": {
        "id": "fc77ac9f"
      },
      "outputs": [],
      "source": [
        "print(\"le nombre de valeur null dans la colonne categories:\",new_total_rows_after_cleaning - df_clean.filter(col(\"categories\").isNotNull()).count())"
      ]
    },
    {
      "cell_type": "code",
      "execution_count": null,
      "id": "22a481ef",
      "metadata": {
        "id": "22a481ef"
      },
      "outputs": [],
      "source": [
        "#Le but c'est de comparer est ce que le nombre des nulls dans la colonne categories est le meme sur la colonne main_category\n",
        "\n",
        "print(\"le nombre de valeur null dans la colonne main_category:\",new_total_rows_after_cleaning - df_clean.filter(col(\"main_category\").isNotNull()).count())"
      ]
    },
    {
      "cell_type": "markdown",
      "id": "409ed7ca",
      "metadata": {
        "id": "409ed7ca"
      },
      "source": [
        "<small>\n",
        "\n",
        "**Je compte m'appuyer fortement sur les catégories pour matcher avec les ingrédients des recettes donc je viens de supprimer les lignes où categories est null**\n",
        "\n",
        "**Simulation:Si tu as une recette avec le mot \"chocolat\", tu veux retrouver les produits de catégorie \"desserts, chocolats, confiseries\". Si la colonne categories est vide, ce match ne sera jamais possible.**\n",
        "</small>"
      ]
    },
    {
      "cell_type": "code",
      "execution_count": null,
      "id": "817eef57",
      "metadata": {
        "id": "817eef57"
      },
      "outputs": [],
      "source": [
        "df_clean=df.filter(col(\"categories\").isNotNull())\n",
        "# just to make sure\n",
        "print(\"le nombre de valeur null dans la colonne categories apres suppression:\",new_total_rows_after_cleaning - df.filter(col(\"categories\").isNotNull()).count())"
      ]
    },
    {
      "cell_type": "code",
      "execution_count": null,
      "id": "90b6c17b",
      "metadata": {
        "id": "90b6c17b"
      },
      "outputs": [],
      "source": [
        "categories=df.select(col(\"categories\")).distinct()\n",
        "categories.show(truncate=False)\n",
        "print(\"le nombre des categories distinct : \", categories.count())"
      ]
    },
    {
      "cell_type": "markdown",
      "id": "e9e4c593",
      "metadata": {
        "id": "e9e4c593"
      },
      "source": [
        "<small>\n",
        "\n",
        "**->Counter of distinct main_category est 65644**\n",
        "**->Counter of distinct main_category est 269195**\n",
        "\n",
        "</small>"
      ]
    },
    {
      "cell_type": "code",
      "execution_count": null,
      "id": "f6a4576a",
      "metadata": {
        "id": "f6a4576a"
      },
      "outputs": [],
      "source": [
        "packaging_type = df.select(\"packaging\").distinct()\n",
        "packaging_type.show()\n",
        "print(\" le nombre des differents types de packaging : \", packaging_type.count())"
      ]
    },
    {
      "cell_type": "code",
      "execution_count": null,
      "id": "4983ef3b",
      "metadata": {
        "id": "4983ef3b"
      },
      "outputs": [],
      "source": [
        "packaging_text= df.select(\"packaging_text\")\n",
        "packaging_text.show(\"packaging_text\")"
      ]
    },
    {
      "cell_type": "code",
      "execution_count": null,
      "id": "d9feb8ce",
      "metadata": {
        "id": "d9feb8ce"
      },
      "outputs": [],
      "source": [
        "df.filter(col(\"packaging_text\").isNotNull()).show()"
      ]
    },
    {
      "cell_type": "code",
      "execution_count": null,
      "id": "8149bb82",
      "metadata": {
        "id": "8149bb82"
      },
      "outputs": [],
      "source": [
        "packaging_text_notnull = df.filter(col(\"packaging_text\").isNotNull()).count()\n",
        "print(\"Pourcentage de valeurs non nulles dans cette colonne :\", (packaging_text_notnull / new_total_rows_after_cleaning) * 100, \"%\")\n"
      ]
    },
    {
      "cell_type": "markdown",
      "id": "e0934173",
      "metadata": {
        "id": "e0934173"
      },
      "source": [
        "<small>\n",
        "\n",
        "**~~ 0.797% de valeurs NotNull dans la colonne \"packaging_text\", alors on prend la decision de supprimer la colonne!!**"
      ]
    },
    {
      "cell_type": "code",
      "execution_count": null,
      "id": "7c1ab66e",
      "metadata": {
        "id": "7c1ab66e"
      },
      "outputs": [],
      "source": [
        "df = df.drop(\"packaging_text\")"
      ]
    },
    {
      "cell_type": "code",
      "execution_count": null,
      "id": "b6a92f3e",
      "metadata": {
        "id": "b6a92f3e"
      },
      "outputs": [],
      "source": [
        "df.filter(\n",
        "    col(\"first_packaging_code_geo\").isNotNull() &\n",
        "    col(\"emb_codes\").isNotNull() &\n",
        "    col(\"emb_codes_tags\").isNotNull()\n",
        ").show()\n"
      ]
    },
    {
      "cell_type": "markdown",
      "id": "2ff80231",
      "metadata": {
        "id": "2ff80231"
      },
      "source": [
        "<small>\n",
        "\n",
        "Ce code \"emb_codes\" se trouve sur les produits alimentaires européens, il peut te permettre de :\n",
        "1. Identifier l’entreprise responsable du conditionnement.\n",
        "2. Repérer les produits provenant du même emballeur.\n",
        "3. Analyser la traçabilité géographique et industrielle (souvent, une partie du code indique un département/région).\n",
        "4. Détecter des patterns industriels (ex : un emballeur travaillant pour plusieurs marques).\n",
        "\n",
        "Je vais pas supprimer cette colonne car j aurai besoin d'elle durant la anlyse et lextraction des insights\n",
        "</small>"
      ]
    },
    {
      "cell_type": "code",
      "execution_count": null,
      "id": "3be60134",
      "metadata": {
        "id": "3be60134"
      },
      "outputs": [],
      "source": [
        "#remplire les valeurs nulls\n",
        "df= df.fillna({\"emb_codes\": \"emb code unknown\"})\n",
        "df= df.fillna({\"emb_codes_tags\": \"emb_code_unknown\"})"
      ]
    },
    {
      "cell_type": "code",
      "execution_count": null,
      "id": "60f11f28",
      "metadata": {
        "id": "60f11f28"
      },
      "outputs": [],
      "source": [
        "\n",
        "first_packaging_code_geo = df.filter(col(\"first_packaging_code_geo\").isNotNull()) \\\n",
        "  .select(\"first_packaging_code_geo\")\n",
        "first_packaging_code_geo.show(20, truncate=False)\n",
        "print(first_packaging_code_geo.count())"
      ]
    },
    {
      "cell_type": "markdown",
      "id": "bfc29f10",
      "metadata": {
        "id": "bfc29f10"
      },
      "source": [
        "<small>\n",
        "\n",
        "**Je vais pas supprimer cette colonne, peut etre j'aurai besoin d'elle**\n",
        "</small>"
      ]
    },
    {
      "cell_type": "code",
      "execution_count": null,
      "id": "76182362",
      "metadata": {
        "id": "76182362"
      },
      "outputs": [],
      "source": [
        "origins=df.filter(col(\"origins\").isNotNull()).select(\"origins\").show(truncate=False)"
      ]
    },
    {
      "cell_type": "code",
      "source": [
        "# Liste des colonnes souhaitées\n",
        "selected_columns = [\n",
        "    \"code\", \"product_name\", \"brands\", \"main_category\", \"countries\", \"stores\",\n",
        "    \"ingredients_text\", \"quantity\", \"allergens\", \"traces\",\n",
        "    \"energy_100g\", \"categories\", \"fat_100g\", \"saturated-fat_100g\", \"trans-fat_100g\",\n",
        "    \"cholesterol_100g\", \"carbohydrates_100g\", \"sugars_100g\", \"added-sugars_100g\",\n",
        "    \"sucrose_100g\", \"glucose_100g\", \"fructose_100g\", \"galactose_100g\", \"lactose_100g\",\n",
        "    \"maltose_100g\", \"fiber_100g\", \"salt_100g\", \"added-salt_100g\", \"sodium_100g\", \"alcohol_100g\"\n",
        "]\n",
        "\n",
        "# Création de la DataFrame filtrée\n",
        "df_nutrition = df_clean.select(*selected_columns)\n",
        "\n",
        "# Affichage pour vérifier\n",
        "df_nutrition.show(5)\n"
      ],
      "metadata": {
        "colab": {
          "base_uri": "https://localhost:8080/"
        },
        "id": "i01wYYx2vvBU",
        "outputId": "9f3c52fb-90c0-461a-9b89-5f2ff04eacdc"
      },
      "id": "i01wYYx2vvBU",
      "execution_count": null,
      "outputs": [
        {
          "output_type": "stream",
          "name": "stdout",
          "text": [
            "+-----+--------------------+--------------+--------------------+--------------------+------+--------------------+------------------+---------+------+-----------+--------------------+--------+------------------+--------------+----------------+------------------+-----------+-----------------+------------+------------+-------------+--------------+------------+------------+----------+---------+---------------+-----------+------------+\n",
            "| code|        product_name|        brands|       main_category|           countries|stores|    ingredients_text|          quantity|allergens|traces|energy_100g|          categories|fat_100g|saturated-fat_100g|trans-fat_100g|cholesterol_100g|carbohydrates_100g|sugars_100g|added-sugars_100g|sucrose_100g|glucose_100g|fructose_100g|galactose_100g|lactose_100g|maltose_100g|fiber_100g|salt_100g|added-salt_100g|sodium_100g|alcohol_100g|\n",
            "+-----+--------------------+--------------+--------------------+--------------------+------+--------------------+------------------+---------+------+-----------+--------------------+--------+------------------+--------------+----------------+------------------+-----------+-----------------+------------+------------+-------------+--------------+------------+------------+----------+---------+---------------+-----------+------------+\n",
            "| 54.0|Limonade artisana...|          NULL|                NULL|               en:fr|  NULL|                NULL|              NULL|     NULL|  NULL|       NULL|                NULL|    NULL|              NULL|          NULL|            NULL|              NULL|       NULL|             NULL|        NULL|        NULL|         NULL|          NULL|        NULL|        NULL|      NULL|     NULL|           NULL|       NULL|        NULL|\n",
            "| 63.0|Mozzarella Schnit...| Gut & Gunstig|                NULL|               en:fr|  NULL|Weizenmehl, Rapsö...|              NULL|     NULL|  NULL|     1389.0|                NULL|    25.0|              17.3|          NULL|            NULL|               3.0|        1.0|             NULL|        NULL|        NULL|         NULL|          NULL|        NULL|        NULL|      NULL|      1.2|           NULL|       0.48|        NULL|\n",
            "|114.0|       Chocolate n 3|Jeff de Bruges|                NULL|              France|  NULL|                NULL|              80 g|     NULL|  NULL|     2415.0|                NULL|    44.0|              28.0|          NULL|            NULL|              30.0|       27.0|             NULL|        NULL|        NULL|         NULL|          NULL|        NULL|        NULL|      NULL|    0.025|           NULL|       0.01|        NULL|\n",
            "|  1.0|        soda au cola|   breizh cola|en:dietary-supple...|Allemagne, États-...|  NULL|beef gelatin, gly...|280gr. 320 Kapseln|     NULL|  NULL|       NULL|Nahrungsergänzung...|    NULL|              NULL|          NULL|            NULL|              NULL|       NULL|             NULL|        NULL|        NULL|         NULL|          NULL|        NULL|        NULL|      NULL|     NULL|           NULL|       NULL|        NULL|\n",
            "|105.0|Paleta gran reser...|      AdvoCare|        en:beverages|    Spanien, Germany|  NULL|Thiamin, Biotin, ...|             750ml|     NULL|  NULL|       NULL|Bebidas y prepara...|    NULL|              NULL|          NULL|            NULL|              NULL|       NULL|             NULL|        NULL|        NULL|         NULL|          NULL|        NULL|        NULL|      NULL|     NULL|           NULL|       NULL|        NULL|\n",
            "+-----+--------------------+--------------+--------------------+--------------------+------+--------------------+------------------+---------+------+-----------+--------------------+--------+------------------+--------------+----------------+------------------+-----------+-----------------+------------+------------+-------------+--------------+------------+------------+----------+---------+---------------+-----------+------------+\n",
            "only showing top 5 rows\n",
            "\n"
          ]
        }
      ]
    },
    {
      "cell_type": "code",
      "source": [
        "# 1. Exporter dans un dossier temporaire (Spark oblige)\n",
        "df_nutrition.coalesce(1).write.mode(\"overwrite\").option(\"header\", True).csv(\"/content/temp_nutrition\")\n",
        "\n",
        "# 2. Trouver le fichier CSV généré et le déplacer/renommer\n",
        "import os\n",
        "import shutil\n",
        "\n",
        "# Dossier Spark temporaire\n",
        "temp_folder = \"/content/temp_nutrition\"\n",
        "# Chemin de destination\n",
        "final_path = \"/content/drive/My Drive/Colab Notebooks/dataset_nutrition.csv\"\n",
        "\n",
        "# Recherche du fichier généré par Spark\n",
        "for file_name in os.listdir(temp_folder):\n",
        "    if file_name.startswith(\"part-\") and file_name.endswith(\".csv\"):\n",
        "        temp_file_path = os.path.join(temp_folder, file_name)\n",
        "        shutil.move(temp_file_path, final_path)\n",
        "        print(f\"✅ Fichier enregistré avec succès à : {final_path}\")\n",
        "        break\n",
        "else:\n",
        "    print(\"❌ Fichier CSV non trouvé dans le dossier temporaire.\")\n"
      ],
      "metadata": {
        "colab": {
          "base_uri": "https://localhost:8080/",
          "height": 211
        },
        "id": "zNSTPYEHxbtu",
        "outputId": "ef76ef8e-5cc3-447e-a82e-25f41eda33d0"
      },
      "id": "zNSTPYEHxbtu",
      "execution_count": null,
      "outputs": [
        {
          "output_type": "error",
          "ename": "NameError",
          "evalue": "name 'df' is not defined",
          "traceback": [
            "\u001b[0;31m---------------------------------------------------------------------------\u001b[0m",
            "\u001b[0;31mNameError\u001b[0m                                 Traceback (most recent call last)",
            "\u001b[0;32m<ipython-input-1-a28a11d8d67c>\u001b[0m in \u001b[0;36m<cell line: 0>\u001b[0;34m()\u001b[0m\n\u001b[1;32m      1\u001b[0m \u001b[0;31m# 1. Écrire le DataFrame dans un dossier temporaire avec une seule partition\u001b[0m\u001b[0;34m\u001b[0m\u001b[0;34m\u001b[0m\u001b[0m\n\u001b[0;32m----> 2\u001b[0;31m \u001b[0mdf\u001b[0m\u001b[0;34m.\u001b[0m\u001b[0mcoalesce\u001b[0m\u001b[0;34m(\u001b[0m\u001b[0;36m1\u001b[0m\u001b[0;34m)\u001b[0m\u001b[0;34m.\u001b[0m\u001b[0mwrite\u001b[0m\u001b[0;34m.\u001b[0m\u001b[0mmode\u001b[0m\u001b[0;34m(\u001b[0m\u001b[0;34m\"overwrite\"\u001b[0m\u001b[0;34m)\u001b[0m\u001b[0;34m.\u001b[0m\u001b[0moption\u001b[0m\u001b[0;34m(\u001b[0m\u001b[0;34m\"header\"\u001b[0m\u001b[0;34m,\u001b[0m \u001b[0;32mTrue\u001b[0m\u001b[0;34m)\u001b[0m\u001b[0;34m.\u001b[0m\u001b[0mcsv\u001b[0m\u001b[0;34m(\u001b[0m\u001b[0;34m\"/content/temp_nutrition\"\u001b[0m\u001b[0;34m)\u001b[0m\u001b[0;34m\u001b[0m\u001b[0;34m\u001b[0m\u001b[0m\n\u001b[0m\u001b[1;32m      3\u001b[0m \u001b[0;34m\u001b[0m\u001b[0m\n\u001b[1;32m      4\u001b[0m \u001b[0;31m# 2. Déplacer le fichier CSV généré dans un emplacement final avec un nom simple\u001b[0m\u001b[0;34m\u001b[0m\u001b[0;34m\u001b[0m\u001b[0m\n\u001b[1;32m      5\u001b[0m \u001b[0;32mimport\u001b[0m \u001b[0mos\u001b[0m\u001b[0;34m\u001b[0m\u001b[0;34m\u001b[0m\u001b[0m\n",
            "\u001b[0;31mNameError\u001b[0m: name 'df' is not defined"
          ]
        }
      ]
    }
  ],
  "metadata": {
    "kernelspec": {
      "display_name": "venv",
      "language": "python",
      "name": "python3"
    },
    "language_info": {
      "codemirror_mode": {
        "name": "ipython",
        "version": 3
      },
      "file_extension": ".py",
      "mimetype": "text/x-python",
      "name": "python",
      "nbconvert_exporter": "python",
      "pygments_lexer": "ipython3",
      "version": "3.11.1"
    },
    "colab": {
      "provenance": []
    }
  },
  "nbformat": 4,
  "nbformat_minor": 5
}